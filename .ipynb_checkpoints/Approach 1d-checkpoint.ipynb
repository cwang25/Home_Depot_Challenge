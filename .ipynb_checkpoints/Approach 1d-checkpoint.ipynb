{
 "cells": [
  {
   "cell_type": "code",
   "execution_count": 1,
   "metadata": {
    "collapsed": true
   },
   "outputs": [],
   "source": [
    "import time\n",
    "import numpy as np\n",
    "import pandas as pd\n",
    "from sklearn.ensemble import RandomForestRegressor\n",
    "#from sklearn import pipeline, model_selection\n",
    "from sklearn import pipeline, grid_search\n",
    "#from sklearn.feature_extraction import DictVectorizer\n",
    "from sklearn.base import BaseEstimator, TransformerMixin\n",
    "from sklearn.pipeline import FeatureUnion\n",
    "from sklearn.decomposition import TruncatedSVD\n",
    "#from sklearn.feature_extraction.text import CountVectorizer, TfidfTransformer\n",
    "from sklearn.feature_extraction.text import TfidfVectorizer\n",
    "from sklearn.metrics import mean_squared_error, make_scorer\n",
    "#from nltk.metrics import edit_distance\n",
    "from nltk.stem.porter import *\n",
    "stemmer = PorterStemmer()\n",
    "#from nltk.stem.snowball import SnowballStemmer #0.003 improvement but takes twice as long as PorterStemmer\n",
    "#stemmer = SnowballStemmer('english')\n",
    "import re\n",
    "#import enchant\n",
    "import random\n",
    "random.seed(2016)\n",
    "import string\n",
    "from nltk.corpus import stopwords\n",
    "from nltk.stem import WordNetLemmatizer\n",
    "\n",
    "#import enchant\n",
    "\n"
   ]
  },
  {
   "cell_type": "code",
   "execution_count": null,
   "metadata": {
    "collapsed": true
   },
   "outputs": [],
   "source": [
    "df_train = pd.read_excel('pre_processed_data\\df_train.xlsx')\n",
    "df_test = pd.read_excel('pre_processed_data\\df_test.xlsx')"
   ]
  },
  {
   "cell_type": "code",
   "execution_count": 26,
   "metadata": {
    "collapsed": true
   },
   "outputs": [],
   "source": [
    "df_prod = pd.read_excel('pre_processed_data\\df_prod.xlsx')\n",
    "df_brand = pd.read_excel('pre_processed_data\\df_brand.xlsx')\n",
    "df_attr = pd.read_excel('pre_processed_data\\df_attr.xlsx')"
   ]
  },
  {
   "cell_type": "markdown",
   "metadata": {},
   "source": [
    "## Compute scores"
   ]
  },
  {
   "cell_type": "code",
   "execution_count": 156,
   "metadata": {
    "collapsed": false
   },
   "outputs": [],
   "source": [
    "def num_prod_title_score(uid, search_term):\n",
    "    if isinstance(search_term, str):\n",
    "        prod_title_list = str(df_train[df_train['product_uid'] == uid ][0:1]['product_title_num'].values[0]).split()\n",
    "        total_len = len(search_term.split())\n",
    "        count = 0        \n",
    "        for word in search_term.split():\n",
    "            count += prod_title_list.count(word)                \n",
    "        if total_len != 0:\n",
    "            \n",
    "            return count/total_len\n",
    "        else:\n",
    "            return 0\n",
    "    else:\n",
    "        return 0\n",
    "    \n",
    "def str_prod_title_score(uid, search_term):\n",
    "    if isinstance(search_term, str):\n",
    "        prod_title_list = str(df_train[df_train['product_uid'] == uid ][0:1]['product_title_str'].values[0]).split()\n",
    "        total_len = len(search_term.split())\n",
    "        count = 0\n",
    "        for word in search_term.split():\n",
    "            count += prod_title_list.count(word)                \n",
    "        if total_len != 0:\n",
    "            return count/total_len\n",
    "        else:\n",
    "            return 0\n",
    "    else:\n",
    "        return 0"
   ]
  },
  {
   "cell_type": "code",
   "execution_count": 157,
   "metadata": {
    "collapsed": false
   },
   "outputs": [],
   "source": [
    "df_train['f_num_prod_title_score'] = df_train.apply(lambda df_train: num_prod_title_score(df_train['product_uid'],df_train['search_term_num'] ), axis = 1)\n",
    "df_train['f_str_prod_title_score'] = df_train.apply(lambda df_train: str_prod_title_score(df_train['product_uid'],df_train['search_term_str'] ) ,axis = 1)"
   ]
  },
  {
   "cell_type": "code",
   "execution_count": 70,
   "metadata": {
    "collapsed": true
   },
   "outputs": [],
   "source": [
    "def num_prod_title_score_test(uid, search_term):\n",
    "    if isinstance(search_term, str):\n",
    "        prod_title_list = str(df_test[df_test['product_uid'] == uid ][0:1]['product_title_num'].values[0]).split()\n",
    "        total_len = len(search_term.split())\n",
    "        count = 0\n",
    "        for word in search_term.split():\n",
    "            count += prod_title_list.count(word)                \n",
    "        if total_len != 0:            \n",
    "            return count/total_len\n",
    "        else:\n",
    "            return 0\n",
    "    else:\n",
    "        return 0\n",
    "    \n",
    "def str_prod_title_score_test(uid, search_term):    \n",
    "    if isinstance(search_term, str):\n",
    "        prod_title_list = str(df_test[df_test['product_uid'] == uid ][0:1]['product_title_str'].values[0]).split()\n",
    "        total_len = len(search_term.split())\n",
    "        #print (\"search term:\",search_term,\"product_title_str\" ,prod_title_list) #\n",
    "        count = 0\n",
    "        for word in search_term.split():\n",
    "            count += prod_title_list.count(word)                \n",
    "        if total_len != 0:\n",
    "            return count/total_len\n",
    "        else:\n",
    "            return 0\n",
    "    else:\n",
    "        return 0"
   ]
  },
  {
   "cell_type": "code",
   "execution_count": 71,
   "metadata": {
    "collapsed": false
   },
   "outputs": [],
   "source": [
    "df_test['f_num_prod_title_score'] = df_test.apply(lambda df_test: num_prod_title_score_test(df_test['product_uid'],df_test['search_term_num'] ), axis = 1)\n",
    "df_test['f_str_prod_title_score'] = df_test.apply(lambda df_test: str_prod_title_score_test(df_test['product_uid'],df_test['search_term_str'] ) ,axis = 1)"
   ]
  },
  {
   "cell_type": "code",
   "execution_count": 73,
   "metadata": {
    "collapsed": false
   },
   "outputs": [],
   "source": [
    "def prod_brand_score(uid, search_term):\n",
    "    if isinstance(search_term, str):\n",
    "        if any(df_brand['product_uid'] == uid) is False:\n",
    "            return 0\n",
    "        prod_title_list = df_brand[df_brand['product_uid'] == uid ][0:1]['brand'].values[0].split()\n",
    "        #print prod_title_list\n",
    "        search_term_list = search_term.split()\n",
    "        total_len = len(search_term_list)\n",
    "        count = 0\n",
    "        for word in search_term.split():\n",
    "            count += prod_title_list.count(word)    \n",
    "        if total_len != 0:\n",
    "            return count/total_len\n",
    "        else:\n",
    "            return 0\n",
    "    else:\n",
    "        return 0\n",
    "\n",
    "df_train['f_str_prod_brand_score'] = df_train.apply(lambda df_train: prod_brand_score(df_train['product_uid'],df_train['search_term_str'] ) ,axis = 1)\n",
    "df_test['f_str_prod_brand_score'] = df_test.apply(lambda df_test: prod_brand_score(df_test['product_uid'],df_test['search_term_str'] ) ,axis = 1)"
   ]
  },
  {
   "cell_type": "code",
   "execution_count": 92,
   "metadata": {
    "collapsed": true
   },
   "outputs": [],
   "source": [
    "def num_prod_desc_score(uid, search_term):    \n",
    "    prod_title_list = str(df_prod[df_prod['product_uid'] == uid ][0:1]['product_description_num'].values[0]).split()\n",
    "    search_term_list = str(search_term).split()\n",
    "    total_len = len(search_term_list)\n",
    "    count = 0\n",
    "    for word in str(search_term).split():\n",
    "        count += prod_title_list.count(str(word))    \n",
    "    if total_len != 0:\n",
    "        return count/total_len\n",
    "    else:\n",
    "        return 0\n",
    "\n",
    "    \n",
    "def str_prod_desc_score(uid, search_term):\n",
    "    if isinstance(search_term, str):\n",
    "        prod_title_list = df_prod[df_prod['product_uid'] == uid ][0:1]['product_description_str'].values[0].split()\n",
    "        search_term_list = search_term.split()\n",
    "        total_len = len(search_term_list)\n",
    "        count = 0\n",
    "        for word in search_term.split():\n",
    "            count += prod_title_list.count(word)    \n",
    "        if total_len != 0:\n",
    "            return count/total_len\n",
    "        else:\n",
    "            return 0\n",
    "    else:\n",
    "        return 0\n",
    "    "
   ]
  },
  {
   "cell_type": "code",
   "execution_count": 93,
   "metadata": {
    "collapsed": false
   },
   "outputs": [],
   "source": [
    "df_train['f_str_prod_desc'] = df_train.apply(lambda df_train: str_prod_desc_score(df_train['product_uid'],df_train['search_term_str'] ) ,axis = 1)\n",
    "df_train['f_num_prod_desc'] = df_train.apply(lambda df_train: num_prod_desc_score(df_train['product_uid'],df_train['search_term_num'] ) ,axis = 1)"
   ]
  },
  {
   "cell_type": "code",
   "execution_count": 94,
   "metadata": {
    "collapsed": true
   },
   "outputs": [],
   "source": [
    "df_test['f_str_prod_desc'] = df_test.apply(lambda df_test: str_prod_desc_score(df_test['product_uid'],df_test['search_term_str'] ) ,axis = 1)\n",
    "df_test['f_num_prod_desc'] = df_test.apply(lambda df_test: num_prod_desc_score(df_test['product_uid'],df_test['search_term_num'] ) ,axis = 1)"
   ]
  },
  {
   "cell_type": "code",
   "execution_count": 130,
   "metadata": {
    "collapsed": true
   },
   "outputs": [],
   "source": [
    "def str_prod_attr_score(uid, search_term):\n",
    "    if isinstance(search_term, str): \n",
    "        l1 = []\n",
    "        for a in df_attr[df_attr['product_uid'] == 100001 ][df_attr['name'] != \"MFG Brand Name\t\"]['value_str'].iteritems():\n",
    "            l1 += str(a[1]).split()\n",
    "        l2 = [a for a in l1 if a != 'nan']\n",
    "        search_term_list = search_term.split()\n",
    "        total_len = len(search_term_list)\n",
    "        count = 0\n",
    "        for word in search_term.split():\n",
    "            count += l2.count(word)    \n",
    "        if total_len != 0:\n",
    "            return count/total_len\n",
    "        else:\n",
    "            return 0\n",
    "    else:\n",
    "        return 0\n",
    "    \n",
    "def num_prod_attr_score(uid, search_term):\n",
    "    if isinstance(search_term, str): \n",
    "        l1 = []\n",
    "        for a in df_attr[df_attr['product_uid'] == 100001 ][df_attr['name'] != \"MFG Brand Name\t\"]['value_num'].iteritems():\n",
    "            l1 += str(a[1]).split()\n",
    "        l2 = [a for a in l1 if a != 'nan']\n",
    "        search_term_list = search_term.split()\n",
    "        total_len = len(search_term_list)\n",
    "        count = 0\n",
    "        for word in search_term.split():\n",
    "            count += l2.count(word)    \n",
    "        if total_len != 0:\n",
    "            return count/total_len\n",
    "        else:\n",
    "            return 0\n",
    "    else:\n",
    "        return 0\n",
    "               \n"
   ]
  },
  {
   "cell_type": "code",
   "execution_count": 145,
   "metadata": {
    "collapsed": false
   },
   "outputs": [],
   "source": [
    "df_train['f_num_attr'] = df_train.apply(lambda df_train: num_prod_desc_score(df_train['product_uid'],df_train['search_term_num'] ) ,axis = 1)\n",
    "df_train['f_str_attr'] = df_train.apply(lambda df_train: str_prod_desc_score(df_train['product_uid'],df_train['search_term_str'] ) ,axis = 1)"
   ]
  },
  {
   "cell_type": "code",
   "execution_count": 146,
   "metadata": {
    "collapsed": true
   },
   "outputs": [],
   "source": [
    "df_test['f_num_attr'] = df_test.apply(lambda df_test: num_prod_desc_score(df_test['product_uid'],df_test['search_term_num'] ) ,axis = 1)\n",
    "df_test['f_str_attr'] = df_test.apply(lambda df_test: str_prod_desc_score(df_test['product_uid'],df_test['search_term_str'] ) ,axis = 1)"
   ]
  },
  {
   "cell_type": "code",
   "execution_count": 154,
   "metadata": {
    "collapsed": false
   },
   "outputs": [
    {
     "data": {
      "text/html": [
       "<div>\n",
       "<table border=\"1\" class=\"dataframe\">\n",
       "  <thead>\n",
       "    <tr style=\"text-align: right;\">\n",
       "      <th></th>\n",
       "      <th>id</th>\n",
       "      <th>product_uid</th>\n",
       "      <th>product_title</th>\n",
       "      <th>search_term</th>\n",
       "      <th>search_term_num</th>\n",
       "      <th>search_term_str</th>\n",
       "      <th>product_title_num</th>\n",
       "      <th>product_title_str</th>\n",
       "      <th>f_num_prod_title_score</th>\n",
       "      <th>f_str_prod_title_score</th>\n",
       "      <th>f_str_prod_brand_score</th>\n",
       "      <th>f_str_prod_desc</th>\n",
       "      <th>f_num_prod_desc</th>\n",
       "      <th>f_num_attr</th>\n",
       "      <th>f_str_attr</th>\n",
       "    </tr>\n",
       "  </thead>\n",
       "  <tbody>\n",
       "    <tr>\n",
       "      <th>0</th>\n",
       "      <td>1</td>\n",
       "      <td>100001</td>\n",
       "      <td>simpson strong tie 12 gaug angl</td>\n",
       "      <td>90deg. bracket</td>\n",
       "      <td>NaN</td>\n",
       "      <td>90deg. bracket</td>\n",
       "      <td>12.0</td>\n",
       "      <td>simpson strong tie gaug angl</td>\n",
       "      <td>0</td>\n",
       "      <td>0</td>\n",
       "      <td>0</td>\n",
       "      <td>0</td>\n",
       "      <td>0</td>\n",
       "      <td>0</td>\n",
       "      <td>0</td>\n",
       "    </tr>\n",
       "  </tbody>\n",
       "</table>\n",
       "</div>"
      ],
      "text/plain": [
       "   id  product_uid                    product_title     search_term  \\\n",
       "0   1       100001  simpson strong tie 12 gaug angl  90deg. bracket   \n",
       "\n",
       "  search_term_num search_term_str product_title_num  \\\n",
       "0             NaN  90deg. bracket              12.0   \n",
       "\n",
       "              product_title_str  f_num_prod_title_score  \\\n",
       "0  simpson strong tie gaug angl                       0   \n",
       "\n",
       "   f_str_prod_title_score  f_str_prod_brand_score  f_str_prod_desc  \\\n",
       "0                       0                       0                0   \n",
       "\n",
       "   f_num_prod_desc  f_num_attr  f_str_attr  \n",
       "0                0           0           0  "
      ]
     },
     "execution_count": 154,
     "metadata": {},
     "output_type": "execute_result"
    }
   ],
   "source": [
    "df_test.head(1)"
   ]
  },
  {
   "cell_type": "code",
   "execution_count": 165,
   "metadata": {
    "collapsed": false
   },
   "outputs": [],
   "source": [
    "train_X = df_train[['f_num_prod_title_score','f_str_prod_title_score','f_str_prod_brand_score','f_str_prod_desc','f_num_prod_desc']]\n",
    "train_Y = df_train[['relevance']]\n",
    "\n",
    "test_X = df_test[['f_num_prod_title_score','f_str_prod_title_score','f_str_prod_brand_score','f_str_prod_desc','f_num_prod_desc']]\n"
   ]
  },
  {
   "cell_type": "code",
   "execution_count": 166,
   "metadata": {
    "collapsed": false
   },
   "outputs": [],
   "source": [
    "#from sklearn.ensemble import RandomForestRegressor\n",
    "from sklearn.svm import SVR\n",
    "clf = SVR()\n",
    "clf.fit(train_X, np.array(train_Y['relevance'].values.tolist()))\n",
    "out = (clf.predict(test_X))\n",
    "df_out = pd.DataFrame(columns=['id','relevance'])\n",
    "df2 = pd.DataFrame({'id': [1], 'relevance': 2})\n",
    "df_out = df_out.append(df2)\n",
    "\n",
    "df_r1 = df_test[['id']]\n",
    "df_r2 = pd.DataFrame(out, columns=['relevance'])\n",
    "result = pd.concat([df_r1, df_r2], axis=1)\n",
    "\n"
   ]
  },
  {
   "cell_type": "code",
   "execution_count": 170,
   "metadata": {
    "collapsed": false
   },
   "outputs": [],
   "source": [
    "result.loc[result.relevance > 3, 'relevance'] = 3"
   ]
  },
  {
   "cell_type": "code",
   "execution_count": 175,
   "metadata": {
    "collapsed": false
   },
   "outputs": [],
   "source": [
    "result.to_csv(\"results9.csv\")"
   ]
  },
  {
   "cell_type": "code",
   "execution_count": 173,
   "metadata": {
    "collapsed": false
   },
   "outputs": [
    {
     "data": {
      "text/html": [
       "<div>\n",
       "<table border=\"1\" class=\"dataframe\">\n",
       "  <thead>\n",
       "    <tr style=\"text-align: right;\">\n",
       "      <th></th>\n",
       "      <th>id</th>\n",
       "      <th>relevance</th>\n",
       "    </tr>\n",
       "  </thead>\n",
       "  <tbody>\n",
       "  </tbody>\n",
       "</table>\n",
       "</div>"
      ],
      "text/plain": [
       "Empty DataFrame\n",
       "Columns: [id, relevance]\n",
       "Index: []"
      ]
     },
     "execution_count": 173,
     "metadata": {},
     "output_type": "execute_result"
    }
   ],
   "source": [
    "result[result.relevance < 1]"
   ]
  },
  {
   "cell_type": "code",
   "execution_count": 176,
   "metadata": {
    "collapsed": true
   },
   "outputs": [],
   "source": [
    "df_train.to_excel('pre_processed_data\\df_train.xlsx')\n",
    "df_test.to_excel('pre_processed_data\\df_test.xlsx')"
   ]
  },
  {
   "cell_type": "code",
   "execution_count": null,
   "metadata": {
    "collapsed": true
   },
   "outputs": [],
   "source": []
  }
 ],
 "metadata": {
  "kernelspec": {
   "display_name": "Python 3",
   "language": "python",
   "name": "python3"
  },
  "language_info": {
   "codemirror_mode": {
    "name": "ipython",
    "version": 3
   },
   "file_extension": ".py",
   "mimetype": "text/x-python",
   "name": "python",
   "nbconvert_exporter": "python",
   "pygments_lexer": "ipython3",
   "version": "3.4.4"
  }
 },
 "nbformat": 4,
 "nbformat_minor": 0
}
