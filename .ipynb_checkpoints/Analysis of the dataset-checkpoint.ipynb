{
 "cells": [
  {
   "cell_type": "code",
   "execution_count": 1,
   "metadata": {
    "collapsed": true
   },
   "outputs": [],
   "source": [
    "import time\n",
    "import numpy as np\n",
    "import pandas as pd\n",
    "from sklearn.ensemble import RandomForestRegressor\n",
    "#from sklearn import pipeline, model_selection\n",
    "from sklearn import pipeline, grid_search\n",
    "#from sklearn.feature_extraction import DictVectorizer\n",
    "from sklearn.base import BaseEstimator, TransformerMixin\n",
    "from sklearn.pipeline import FeatureUnion\n",
    "from sklearn.decomposition import TruncatedSVD\n",
    "#from sklearn.feature_extraction.text import CountVectorizer, TfidfTransformer\n",
    "from sklearn.feature_extraction.text import TfidfVectorizer\n",
    "from sklearn.metrics import mean_squared_error, make_scorer\n",
    "#from nltk.metrics import edit_distance\n",
    "from nltk.stem.porter import *\n",
    "stemmer = PorterStemmer()\n",
    "#from nltk.stem.snowball import SnowballStemmer #0.003 improvement but takes twice as long as PorterStemmer\n",
    "#stemmer = SnowballStemmer('english')\n",
    "import re\n",
    "#import enchant\n",
    "import random\n",
    "random.seed(2016)\n",
    "from autocorrect import spell\n",
    "import enchant\n",
    "import nltk\n",
    "import matplotlib.pyplot as plt\n",
    "%matplotlib inline\n",
    "\n"
   ]
  },
  {
   "cell_type": "code",
   "execution_count": 2,
   "metadata": {
    "collapsed": false
   },
   "outputs": [],
   "source": [
    "df_train = pd.read_csv('C:/Users/sneha/Google Drive/Github/DataSet/Kaggle/data/train.csv', encoding=\"ISO-8859-1\")\n",
    "df_test = pd.read_csv('C:/Users/sneha/Google Drive/Github/DataSet/Kaggle/data/test.csv', encoding=\"ISO-8859-1\") "
   ]
  },
  {
   "cell_type": "markdown",
   "metadata": {},
   "source": [
    "## Analysing Part of speech in the search terms"
   ]
  },
  {
   "cell_type": "code",
   "execution_count": 3,
   "metadata": {
    "collapsed": true
   },
   "outputs": [],
   "source": [
    "def pos_tagging(str1):\n",
    "    return [nltk.pos_tag([w]) for w in str1.split()]\n",
    "        "
   ]
  },
  {
   "cell_type": "code",
   "execution_count": 4,
   "metadata": {
    "collapsed": false
   },
   "outputs": [
    {
     "data": {
      "text/plain": [
       "0                    [[(angle, NN)], [(bracket, NN)]]\n",
       "1                        [[(l, NN)], [(bracket, NN)]]\n",
       "2                        [[(deck, NN)], [(over, IN)]]\n",
       "3       [[(rain, NN)], [(shower, JJR)], [(head, NN)]]\n",
       "4     [[(shower, JJR)], [(only, RB)], [(faucet, NN)]]\n",
       "5                   [[(convection, NN)], [(otr, NN)]]\n",
       "6    [[(microwave, NN)], [(over, IN)], [(stove, IN)]]\n",
       "7                               [[(microwaves, NNS)]]\n",
       "8                  [[(emergency, NN)], [(light, NN)]]\n",
       "9                          [[(mdf, NN)], [(3/4, CD)]]\n",
       "Name: search_term, dtype: object"
      ]
     },
     "execution_count": 4,
     "metadata": {},
     "output_type": "execute_result"
    }
   ],
   "source": [
    "df_train['search_term'].head(10).apply(pos_tagging)"
   ]
  },
  {
   "cell_type": "code",
   "execution_count": 8,
   "metadata": {
    "collapsed": false
   },
   "outputs": [
    {
     "name": "stdout",
     "output_type": "stream",
     "text": [
      "[('Noun', 582798), ('numeral', 68361), ('adjective ', 51989), ('preposition', 48374), ('Verb', 46716), ('List', 13916), ('Pronoun', 10582), ('adjective', 10448), ('adverb', 9758), ('conjunction', 6284), ('determiner', 3911), ('TO', 1783), (':', 740), ('MD', 576), ('-NONE-', 564), ('POS', 171), ('WP', 143), ('WRB', 32), (',', 29), ('$', 24), ('.', 12)]\n"
     ]
    },
    {
     "data": {
      "text/plain": [
       "<matplotlib.axes._subplots.AxesSubplot at 0xaecf710>"
      ]
     },
     "execution_count": 8,
     "metadata": {},
     "output_type": "execute_result"
    },
    {
     "data": {
      "image/png": "[encoded data removed]",
      "text/plain": [
       "<matplotlib.figure.Figure at 0xaecfe10>"
      ]
     },
     "metadata": {},
     "output_type": "display_data"
    }
   ],
   "source": [
    "import operator\n",
    "pos_dict = dict()\n",
    "\n",
    "dict_chunk = {'NN':'Noun', 'NNP':'Noun', 'NNPS':'Noun','NNS':'Noun', 'CD': 'numeral', 'JJ':'adjective ','IN':'preposition',\n",
    "              'VBG':'Verb','VBD':'Verb','LS':'List','JJR':'adjective', 'JJS':'adjective', 'RB':'adverb','RBR':'adverb',\n",
    "              'RBS':'adverb', 'PRP$':'Pronoun', 'CC': 'conjunction','PRP':'Pronoun','DT': 'determiner',              \n",
    "              'VB':'Verb','VBN':'Verb','VBP':'Verb','VBZ':'Verb'              \n",
    "              }\n",
    "\n",
    "\n",
    "for a in df_train['search_term'].apply(pos_tagging):\n",
    "    for b in a :\n",
    "        for b in a :\n",
    "            temp = ''\n",
    "            if b[0][1] in dict_chunk:\n",
    "                temp = dict_chunk[b[0][1]]\n",
    "            else:\n",
    "                temp = b[0][1]\n",
    "        \n",
    "            if temp in pos_dict:\n",
    "                pos_dict[temp] = pos_dict[temp] + 1\n",
    "            else:\n",
    "                pos_dict[temp] = 1\n",
    "\n",
    "\n",
    "\n",
    "sorted_train = sorted(pos_dict.items(), key=operator.itemgetter(1),reverse=True)\n",
    "print (sorted_train)\n",
    "\n",
    "df = pd.DataFrame(sorted_train)\n",
    "df.set_index(0).plot(kind='bar')  "
   ]
  },
  {
   "cell_type": "code",
   "execution_count": 10,
   "metadata": {
    "collapsed": false
   },
   "outputs": [
    {
     "name": "stdout",
     "output_type": "stream",
     "text": [
      "[('Noun', 1190730), ('numeral', 148631), ('adjective ', 98874), ('Verb', 95175), ('preposition', 93233), ('List', 32270), ('adjective', 23166), ('Pronoun', 21582), ('adverb', 19165), ('conjunction', 12562), ('determiner', 4982), ('TO', 2289), (':', 1613), ('-NONE-', 917), ('MD', 821), ('POS', 300), ('WP', 257), ('WRB', 201), ('.', 131), (',', 78)]\n"
     ]
    },
    {
     "data": {
      "text/plain": [
       "<matplotlib.axes._subplots.AxesSubplot at 0xbdb7790>"
      ]
     },
     "execution_count": 10,
     "metadata": {},
     "output_type": "execute_result"
    },
    {
     "data": {
      "image/png": "[encoded data removed]",
      "text/plain": [
       "<matplotlib.figure.Figure at 0xbdb7e10>"
      ]
     },
     "metadata": {},
     "output_type": "display_data"
    }
   ],
   "source": [
    "import operator\n",
    "pos_dict = dict()\n",
    "\n",
    "dict_chunk = {'NN':'Noun', 'NNP':'Noun', 'NNPS':'Noun','NNS':'Noun', 'CD': 'numeral', 'JJ':'adjective ','IN':'preposition',\n",
    "              'VBG':'Verb','VBD':'Verb','LS':'List','JJR':'adjective', 'JJS':'adjective', 'RB':'adverb','RBR':'adverb',\n",
    "              'RBS':'adverb', 'PRP$':'Pronoun', 'CC': 'conjunction','PRP':'Pronoun','DT': 'determiner',              \n",
    "              'VB':'Verb','VBN':'Verb','VBP':'Verb','VBZ':'Verb'              \n",
    "              }\n",
    "\n",
    "\n",
    "for a in df_test['search_term'].apply(pos_tagging):\n",
    "    for b in a :\n",
    "        for b in a :\n",
    "            temp = ''\n",
    "            if b[0][1] in dict_chunk:\n",
    "                temp = dict_chunk[b[0][1]]\n",
    "            else:\n",
    "                temp = b[0][1]\n",
    "        \n",
    "            if temp in pos_dict:\n",
    "                pos_dict[temp] = pos_dict[temp] + 1\n",
    "            else:\n",
    "                pos_dict[temp] = 1\n",
    "\n",
    "\n",
    "\n",
    "sorted_test = sorted(pos_dict.items(), key=operator.itemgetter(1),reverse=True)\n",
    "print (sorted_test)\n",
    "\n",
    "df = pd.DataFrame(sorted_test)\n",
    "df.set_index(0).plot(kind='bar')  "
   ]
  },
  {
   "cell_type": "markdown",
   "metadata": {
    "collapsed": false
   },
   "source": [
    "### Length of the Search terms"
   ]
  },
  {
   "cell_type": "code",
   "execution_count": 7,
   "metadata": {
    "collapsed": false
   },
   "outputs": [],
   "source": [
    "def length(str1):\n",
    "    return len(str1.split())"
   ]
  },
  {
   "cell_type": "code",
   "execution_count": 11,
   "metadata": {
    "collapsed": false
   },
   "outputs": [],
   "source": [
    "df_test['len_search_term'] = df_test['search_term'].apply(length)\n",
    "df_train['len_search_term'] = df_train['search_term'].apply(length)"
   ]
  },
  {
   "cell_type": "code",
   "execution_count": 14,
   "metadata": {
    "collapsed": false
   },
   "outputs": [
    {
     "data": {
      "text/plain": [
       "Counter({1: 4503,\n",
       "         2: 18386,\n",
       "         3: 26575,\n",
       "         4: 14847,\n",
       "         5: 6601,\n",
       "         6: 2076,\n",
       "         7: 741,\n",
       "         8: 204,\n",
       "         9: 80,\n",
       "         10: 10,\n",
       "         11: 31,\n",
       "         12: 9,\n",
       "         14: 4})"
      ]
     },
     "execution_count": 14,
     "metadata": {},
     "output_type": "execute_result"
    }
   ],
   "source": [
    "from collections import Counter\n",
    "Counter(df_train['len_search_term'])"
   ]
  },
  {
   "cell_type": "code",
   "execution_count": 16,
   "metadata": {
    "collapsed": false
   },
   "outputs": [
    {
     "data": {
      "text/plain": [
       "Counter({1: 12772,\n",
       "         2: 51329,\n",
       "         3: 56420,\n",
       "         4: 28100,\n",
       "         5: 12004,\n",
       "         6: 4004,\n",
       "         7: 1241,\n",
       "         8: 469,\n",
       "         9: 145,\n",
       "         10: 104,\n",
       "         11: 46,\n",
       "         12: 54,\n",
       "         13: 1,\n",
       "         14: 4})"
      ]
     },
     "execution_count": 16,
     "metadata": {},
     "output_type": "execute_result"
    }
   ],
   "source": [
    "from collections import Counter\n",
    "Counter(df_test['len_search_term'])"
   ]
  },
  {
   "cell_type": "code",
   "execution_count": 8,
   "metadata": {
    "collapsed": true
   },
   "outputs": [],
   "source": [
    "dict_chunk = {'NN':'Noun', 'NNP':'Noun', 'NNPS':'Noun', 'CD': 'numeral', 'JJ':'adjective ','IN':'preposition',\n",
    "              'VBG':'Verb','VBD':'Verb','LS':'List','JJR':'adjective', 'JJS':'adjective', 'RB':'adverb','RBR':'adverb',\n",
    "              'RBS':'adverb', 'PRP$':'Pronoun', 'CC': 'conjunction','PRP':'Pronoun','DT': 'determiner',              \n",
    "              'VB':'Verb','VBN':'Verb','VBP':'Verb','VBZ':'Verb'              \n",
    "              }"
   ]
  },
  {
   "cell_type": "code",
   "execution_count": 9,
   "metadata": {
    "collapsed": false
   },
   "outputs": [
    {
     "data": {
      "text/plain": [
       "'Noun'"
      ]
     },
     "execution_count": 9,
     "metadata": {},
     "output_type": "execute_result"
    }
   ],
   "source": [
    "dict_chunk['NN']"
   ]
  },
  {
   "cell_type": "code",
   "execution_count": null,
   "metadata": {
    "collapsed": true
   },
   "outputs": [],
   "source": []
  }
 ],
 "metadata": {
  "kernelspec": {
   "display_name": "Python 3",
   "language": "python",
   "name": "python3"
  },
  "language_info": {
   "codemirror_mode": {
    "name": "ipython",
    "version": 3
   },
   "file_extension": ".py",
   "mimetype": "text/x-python",
   "name": "python",
   "nbconvert_exporter": "python",
   "pygments_lexer": "ipython3",
   "version": "3.4.4"
  }
 },
 "nbformat": 4,
 "nbformat_minor": 0
}
