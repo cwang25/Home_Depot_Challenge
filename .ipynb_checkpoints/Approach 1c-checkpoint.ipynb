{
 "cells": [
  {
   "cell_type": "code",
   "execution_count": 1,
   "metadata": {
    "collapsed": true
   },
   "outputs": [],
   "source": [
    "import time\n",
    "import numpy as np\n",
    "import pandas as pd\n",
    "from sklearn.ensemble import RandomForestRegressor\n",
    "#from sklearn import pipeline, model_selection\n",
    "from sklearn import pipeline, grid_search\n",
    "#from sklearn.feature_extraction import DictVectorizer\n",
    "from sklearn.base import BaseEstimator, TransformerMixin\n",
    "from sklearn.pipeline import FeatureUnion\n",
    "from sklearn.decomposition import TruncatedSVD\n",
    "#from sklearn.feature_extraction.text import CountVectorizer, TfidfTransformer\n",
    "from sklearn.feature_extraction.text import TfidfVectorizer\n",
    "from sklearn.metrics import mean_squared_error, make_scorer\n",
    "#from nltk.metrics import edit_distance\n",
    "from nltk.stem.porter import *\n",
    "stemmer = PorterStemmer()\n",
    "#from nltk.stem.snowball import SnowballStemmer #0.003 improvement but takes twice as long as PorterStemmer\n",
    "#stemmer = SnowballStemmer('english')\n",
    "import re\n",
    "#import enchant\n",
    "import random\n",
    "random.seed(2016)\n",
    "import string\n",
    "from nltk.corpus import stopwords\n",
    "from nltk.stem import WordNetLemmatizer\n",
    "\n",
    "#import enchant\n",
    "\n"
   ]
  },
  {
   "cell_type": "code",
   "execution_count": 2,
   "metadata": {
    "collapsed": true
   },
   "outputs": [],
   "source": [
    "def isFloat(string):\n",
    "    try:\n",
    "        float(string)\n",
    "        return True\n",
    "    except ValueError:\n",
    "        return False\n",
    "\n",
    "def eval_f(expr):\n",
    "    first = ''\n",
    "    second = \"\"\n",
    "    flag = 0\n",
    "\n",
    "    if expr.find(\"/\") == 1:    \n",
    "        for a in expr:            \n",
    "            if a == \"/\":\n",
    "                flag = 1\n",
    "                continue\n",
    "            if flag == 0:\n",
    "                first += a\n",
    "            if flag == 1:\n",
    "                second += a\n",
    "        \n",
    "        if (first.isnumeric() == True and  second.isnumeric() == True):\n",
    "            return (float(first)/float(second))\n",
    "    else:\n",
    "        if (expr.isnumeric()):\n",
    "            return float(expr)\n",
    "        else:\n",
    "            return 1"
   ]
  },
  {
   "cell_type": "code",
   "execution_count": 12,
   "metadata": {
    "collapsed": true
   },
   "outputs": [],
   "source": [
    "def prod_attr_score(uid, search_term):\n",
    "    if isinstance(search_term, str): \n",
    "        attr_list  = list()\n",
    "        count = 0\n",
    "        total_len = 0\n",
    "        for a in df_attr[df_attr.product_uid == uid].iterrows():            \n",
    "                if not a[1][1] is None and a[1][1].find(\"Bullet\") == 0 :\n",
    "                    if not a[1][2] is None:\n",
    "                        for b in  (a[1][2].split()):\n",
    "                            if isFloat(b) is False:\n",
    "                                attr_list.append(b)\n",
    "        #print (attr_list, search_term)      \n",
    "        \n",
    "        for word in search_term.split():\n",
    "            if isFloat(word) is True:\n",
    "                continue\n",
    "            if word in attr_list:\n",
    "                count += 1\n",
    "            total_len += 1\n",
    "        #print(count)        \n",
    "        return count\n",
    "        \n"
   ]
  },
  {
   "cell_type": "code",
   "execution_count": 13,
   "metadata": {
    "collapsed": true
   },
   "outputs": [],
   "source": [
    "def prod_attr_score_num(uid, search_term):\n",
    "    unit_list = [\"(in.)\", \"(lb.)\", \"(volts.)\", \"(watts)\",\"sq.\" ,\"(amps)\",\"(min.)\",\"(hours)\",\"(ft.)\" ]\n",
    "    if isinstance(search_term, str): \n",
    "        flag = 0\n",
    "        attr_list  = list()\n",
    "        count = 0\n",
    "        total_len = 0\n",
    "        for a in df_attr[df_attr.product_uid == uid].iterrows():            \n",
    "                if not a is None:\n",
    "                    for name_word in a[1][1].split():\n",
    "                        if name_word in unit_list or (a[1][2] is not None and isFloat(a[1][2]) == True):\n",
    "                            flag = 1\n",
    "                        else:\n",
    "                            flag = 0\n",
    "                    if not a[1][2] is None and flag == 1:\n",
    "                        for b in  (a[1][2].split()):\n",
    "                            if isFloat(b) is True:\n",
    "                                attr_list.append(float(b))\n",
    "        #print (attr_list, search_term)      \n",
    "        #print (attr_list,search_term)\n",
    "        for word in search_term.split():\n",
    "            if isFloat(word) is False:\n",
    "                continue\n",
    "            if float(word) in attr_list:\n",
    "                count += 1\n",
    "            total_len += 1\n",
    "        #print(count)        \n",
    "            return count\n",
    "        \n"
   ]
  },
  {
   "cell_type": "code",
   "execution_count": 14,
   "metadata": {
    "collapsed": true
   },
   "outputs": [],
   "source": [
    "df_train = pd.read_excel('pre_processed_data\\df_train.xlsx')\n",
    "df_test = pd.read_excel('pre_processed_data\\df_test.xlsx')\n",
    "df_prod = pd.read_excel('pre_processed_data\\df_prod.xlsx')\n",
    "df_brand = pd.read_excel('pre_processed_data\\df_brand.xlsx')\n",
    "df_attr = pd.read_excel('pre_processed_data\\df_attr.xlsx')"
   ]
  },
  {
   "cell_type": "code",
   "execution_count": null,
   "metadata": {
    "collapsed": true
   },
   "outputs": [],
   "source": [
    "df_train['attr_bullet_score']  = df_train.apply(lambda df_train: prod_attr_score(df_train['product_uid'],df_train['search_term'] ) ,axis = 1)\n",
    "\n",
    "df_test['attr_bullet_score']  = df_test.apply(lambda df_test: prod_attr_score(df_test['product_uid'],df_test['search_term'] ) ,axis = 1)\n",
    "\n",
    "df_train['attr_bullet_score_num']  = df_train.apply(lambda df_train: prod_attr_score_num(df_train['product_uid'],df_train['search_term'] ) ,axis = 1)\n",
    "\n",
    "df_test['attr_bullet_score_num']  = df_test.apply(lambda df_test: prod_attr_score_num(df_test['product_uid'],df_test['search_term'] ) ,axis = 1)"
   ]
  },
  {
   "cell_type": "code",
   "execution_count": 6,
   "metadata": {
    "collapsed": true
   },
   "outputs": [],
   "source": [
    "train_X = df_train[['prod_title_score','prod_brand_score']]#,'attr_bullet_score','attr_bullet_score_num']]\n",
    "train_Y = df_train[['relevance']]\n",
    "\n",
    "test_X = df_test[['prod_title_score','prod_brand_score']]#,'attr_bullet_score','attr_bullet_score_num']]\n",
    "\n",
    "train_X = train_X.fillna(0)\n",
    "test_X = test_X.fillna(0)"
   ]
  },
  {
   "cell_type": "code",
   "execution_count": 7,
   "metadata": {
    "collapsed": true
   },
   "outputs": [],
   "source": [
    "from sklearn.ensemble import RandomForestRegressor\n",
    "clf = RandomForestRegressor(random_state=2016, n_estimators=1000)\n",
    "clf.fit(train_X, np.array(train_Y['relevance'].values.tolist()))\n",
    "out = (clf.predict(test_X))\n",
    "df_out = pd.DataFrame(columns=['id','relevance'])\n",
    "df2 = pd.DataFrame({'id': [1], 'relevance': 2})\n",
    "df_out = df_out.append(df2)\n",
    "\n",
    "df_r1 = df_test[['id']]\n",
    "df_r2 = pd.DataFrame(out, columns=['relevance'])\n",
    "result = pd.concat([df_r1, df_r2], axis=1)\n",
    "result.to_csv(\"results5.csv\")\n"
   ]
  },
  {
   "cell_type": "code",
   "execution_count": null,
   "metadata": {
    "collapsed": true
   },
   "outputs": [],
   "source": []
  }
 ],
 "metadata": {
  "kernelspec": {
   "display_name": "Python 3",
   "language": "python",
   "name": "python3"
  },
  "language_info": {
   "codemirror_mode": {
    "name": "ipython",
    "version": 3
   },
   "file_extension": ".py",
   "mimetype": "text/x-python",
   "name": "python",
   "nbconvert_exporter": "python",
   "pygments_lexer": "ipython3",
   "version": "3.4.4"
  }
 },
 "nbformat": 4,
 "nbformat_minor": 0
}
