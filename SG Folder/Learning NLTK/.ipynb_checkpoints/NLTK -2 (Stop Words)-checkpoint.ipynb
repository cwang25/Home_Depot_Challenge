{
 "cells": [
  {
   "cell_type": "code",
   "execution_count": 1,
   "metadata": {
    "collapsed": true
   },
   "outputs": [],
   "source": [
    "from nltk.corpus import stopwords\n",
    "from nltk.tokenize import word_tokenize"
   ]
  },
  {
   "cell_type": "code",
   "execution_count": 2,
   "metadata": {
    "collapsed": true
   },
   "outputs": [],
   "source": [
    "example_text = \"This is an example showing off stop word filteration.\""
   ]
  },
  {
   "cell_type": "code",
   "execution_count": 3,
   "metadata": {
    "collapsed": true
   },
   "outputs": [],
   "source": [
    "stop_words = set(stopwords.words(\"english\"))"
   ]
  },
  {
   "cell_type": "code",
   "execution_count": 6,
   "metadata": {
    "collapsed": false
   },
   "outputs": [
    {
     "name": "stdout",
     "output_type": "stream",
     "text": [
      "{'between', 'only', 'who', 'its', 'but', 'both', 'some', 'weren', 'which', 'very', 'of', 'ours', 'me', 'above', 'nor', 'further', 're', 'him', 'she', 'not', 'the', 'with', 'yourself', 'haven', 'what', 'or', 'shan', 'has', 'that', 'then', 'your', 'at', 'here', 'doesn', 'it', 'itself', 'am', 'while', 'mightn', 'having', 'where', 'my', 'because', 've', 'did', 'than', 'about', 'whom', 'until', 'any', 'as', 'them', 'wasn', 'hers', 'couldn', 'is', 'such', 'will', 'should', 'wouldn', 'own', 'shouldn', 'myself', 'mustn', 'does', 'our', 'yourselves', 'they', 'ma', 'when', 'these', 'i', 'do', 'being', 'other', 'during', 'through', 'can', 'were', 'theirs', 'needn', 'too', 'his', 'up', 'won', 'have', 'hasn', 'each', 'again', 'we', 'after', 'into', 'those', 'aren', 'just', 'are', 'o', 'now', 'll', 'all', 'their', 'and', 'so', 'why', 'this', 'under', 'by', 'once', 'on', 'a', 'didn', 'he', 'themselves', 'against', 'from', 's', 'himself', 'out', 'was', 'more', 'there', 'same', 'few', 'ain', 'isn', 'you', 'down', 'to', 'if', 'been', 'hadn', 'for', 'over', 'doing', 'no', 'in', 'had', 'off', 'y', 'below', 'an', 'her', 't', 'most', 'm', 'd', 'ourselves', 'be', 'before', 'herself', 'don', 'how', 'yours'}\n"
     ]
    }
   ],
   "source": [
    "print (stop_words)"
   ]
  },
  {
   "cell_type": "code",
   "execution_count": 7,
   "metadata": {
    "collapsed": true
   },
   "outputs": [],
   "source": [
    "words = word_tokenize(example_text)"
   ]
  },
  {
   "cell_type": "code",
   "execution_count": 9,
   "metadata": {
    "collapsed": false
   },
   "outputs": [],
   "source": [
    "fil_sent = []"
   ]
  },
  {
   "cell_type": "code",
   "execution_count": 10,
   "metadata": {
    "collapsed": false
   },
   "outputs": [
    {
     "name": "stdout",
     "output_type": "stream",
     "text": [
      "['This', 'example', 'showing', 'stop', 'word', 'filteration', '.']\n"
     ]
    }
   ],
   "source": [
    "for w in words: \n",
    "    if w not in stop_words:\n",
    "        fil_sent.append(w)\n",
    "\n",
    "print (fil_sent)"
   ]
  },
  {
   "cell_type": "code",
   "execution_count": 11,
   "metadata": {
    "collapsed": false
   },
   "outputs": [
    {
     "name": "stdout",
     "output_type": "stream",
     "text": [
      "['This', 'example', 'showing', 'stop', 'word', 'filteration', '.']\n"
     ]
    }
   ],
   "source": [
    "#one liner\n",
    "filtered_sent2 = [w for w in words if not w in stop_words]\n",
    "print (filtered_sent2)"
   ]
  },
  {
   "cell_type": "code",
   "execution_count": null,
   "metadata": {
    "collapsed": true
   },
   "outputs": [],
   "source": []
  }
 ],
 "metadata": {
  "kernelspec": {
   "display_name": "Python 3",
   "language": "python",
   "name": "python3"
  },
  "language_info": {
   "codemirror_mode": {
    "name": "ipython",
    "version": 3
   },
   "file_extension": ".py",
   "mimetype": "text/x-python",
   "name": "python",
   "nbconvert_exporter": "python",
   "pygments_lexer": "ipython3",
   "version": "3.4.4"
  }
 },
 "nbformat": 4,
 "nbformat_minor": 0
}
