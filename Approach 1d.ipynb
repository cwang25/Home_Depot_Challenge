{
 "cells": [
  {
   "cell_type": "code",
   "execution_count": 1,
   "metadata": {
    "collapsed": true
   },
   "outputs": [],
   "source": [
    "import time\n",
    "import numpy as np\n",
    "import pandas as pd\n",
    "from sklearn.ensemble import RandomForestRegressor\n",
    "#from sklearn import pipeline, model_selection\n",
    "from sklearn import pipeline, grid_search\n",
    "#from sklearn.feature_extraction import DictVectorizer\n",
    "from sklearn.base import BaseEstimator, TransformerMixin\n",
    "from sklearn.pipeline import FeatureUnion\n",
    "from sklearn.decomposition import TruncatedSVD\n",
    "#from sklearn.feature_extraction.text import CountVectorizer, TfidfTransformer\n",
    "from sklearn.feature_extraction.text import TfidfVectorizer\n",
    "from sklearn.metrics import mean_squared_error, make_scorer\n",
    "#from nltk.metrics import edit_distance\n",
    "from nltk.stem.porter import *\n",
    "stemmer = PorterStemmer()\n",
    "#from nltk.stem.snowball import SnowballStemmer #0.003 improvement but takes twice as long as PorterStemmer\n",
    "#stemmer = SnowballStemmer('english')\n",
    "import re\n",
    "#import enchant\n",
    "import random\n",
    "random.seed(2016)\n",
    "import string\n",
    "from nltk.corpus import stopwords\n",
    "from nltk.stem import WordNetLemmatizer\n",
    "\n",
    "#import enchant\n",
    "\n"
   ]
  },
  {
   "cell_type": "code",
   "execution_count": 2,
   "metadata": {
    "collapsed": true
   },
   "outputs": [],
   "source": [
    "df_train = pd.read_excel('pre_processed_data\\df_train.xlsx')\n",
    "df_test = pd.read_excel('pre_processed_data\\df_test.xlsx')"
   ]
  },
  {
   "cell_type": "code",
   "execution_count": 3,
   "metadata": {
    "collapsed": true
   },
   "outputs": [],
   "source": [
    "df_prod = pd.read_excel('pre_processed_data\\df_prod.xlsx')\n",
    "df_brand = pd.read_excel('pre_processed_data\\df_brand.xlsx')\n",
    "df_attr = pd.read_excel('pre_processed_data\\df_attr.xlsx')"
   ]
  },
  {
   "cell_type": "markdown",
   "metadata": {},
   "source": [
    "## Compute scores"
   ]
  },
  {
   "cell_type": "code",
   "execution_count": 156,
   "metadata": {
    "collapsed": false
   },
   "outputs": [],
   "source": [
    "def num_prod_title_score(uid, search_term):\n",
    "    if isinstance(search_term, str):\n",
    "        prod_title_list = str(df_train[df_train['product_uid'] == uid ][0:1]['product_title_num'].values[0]).split()\n",
    "        total_len = len(search_term.split())\n",
    "        count = 0        \n",
    "        for word in search_term.split():\n",
    "            count += prod_title_list.count(word)                \n",
    "        if total_len != 0:\n",
    "            \n",
    "            return count/total_len\n",
    "        else:\n",
    "            return 0\n",
    "    else:\n",
    "        return 0\n",
    "    \n",
    "def str_prod_title_score(uid, search_term):\n",
    "    if isinstance(search_term, str):\n",
    "        prod_title_list = str(df_train[df_train['product_uid'] == uid ][0:1]['product_title_str'].values[0]).split()\n",
    "        total_len = len(search_term.split())\n",
    "        count = 0\n",
    "        for word in search_term.split():\n",
    "            count += prod_title_list.count(word)                \n",
    "        if total_len != 0:\n",
    "            return count/total_len\n",
    "        else:\n",
    "            return 0\n",
    "    else:\n",
    "        return 0"
   ]
  },
  {
   "cell_type": "code",
   "execution_count": 157,
   "metadata": {
    "collapsed": false
   },
   "outputs": [],
   "source": [
    "df_train['f_num_prod_title_score'] = df_train.apply(lambda df_train: num_prod_title_score(df_train['product_uid'],df_train['search_term_num'] ), axis = 1)\n",
    "df_train['f_str_prod_title_score'] = df_train.apply(lambda df_train: str_prod_title_score(df_train['product_uid'],df_train['search_term_str'] ) ,axis = 1)"
   ]
  },
  {
   "cell_type": "code",
   "execution_count": 70,
   "metadata": {
    "collapsed": true
   },
   "outputs": [],
   "source": [
    "def num_prod_title_score_test(uid, search_term):\n",
    "    if isinstance(search_term, str):\n",
    "        prod_title_list = str(df_test[df_test['product_uid'] == uid ][0:1]['product_title_num'].values[0]).split()\n",
    "        total_len = len(search_term.split())\n",
    "        count = 0\n",
    "        for word in search_term.split():\n",
    "            count += prod_title_list.count(word)                \n",
    "        if total_len != 0:            \n",
    "            return count/total_len\n",
    "        else:\n",
    "            return 0\n",
    "    else:\n",
    "        return 0\n",
    "    \n",
    "def str_prod_title_score_test(uid, search_term):    \n",
    "    if isinstance(search_term, str):\n",
    "        prod_title_list = str(df_test[df_test['product_uid'] == uid ][0:1]['product_title_str'].values[0]).split()\n",
    "        total_len = len(search_term.split())\n",
    "        #print (\"search term:\",search_term,\"product_title_str\" ,prod_title_list) #\n",
    "        count = 0\n",
    "        for word in search_term.split():\n",
    "            count += prod_title_list.count(word)                \n",
    "        if total_len != 0:\n",
    "            return count/total_len\n",
    "        else:\n",
    "            return 0\n",
    "    else:\n",
    "        return 0"
   ]
  },
  {
   "cell_type": "code",
   "execution_count": 71,
   "metadata": {
    "collapsed": false
   },
   "outputs": [],
   "source": [
    "df_test['f_num_prod_title_score'] = df_test.apply(lambda df_test: num_prod_title_score_test(df_test['product_uid'],df_test['search_term_num'] ), axis = 1)\n",
    "df_test['f_str_prod_title_score'] = df_test.apply(lambda df_test: str_prod_title_score_test(df_test['product_uid'],df_test['search_term_str'] ) ,axis = 1)"
   ]
  },
  {
   "cell_type": "code",
   "execution_count": 73,
   "metadata": {
    "collapsed": false
   },
   "outputs": [],
   "source": [
    "def prod_brand_score(uid, search_term):\n",
    "    if isinstance(search_term, str):\n",
    "        if any(df_brand['product_uid'] == uid) is False:\n",
    "            return 0\n",
    "        prod_title_list = df_brand[df_brand['product_uid'] == uid ][0:1]['brand'].values[0].split()\n",
    "        #print prod_title_list\n",
    "        search_term_list = search_term.split()\n",
    "        total_len = len(search_term_list)\n",
    "        count = 0\n",
    "        for word in search_term.split():\n",
    "            count += prod_title_list.count(word)    \n",
    "        if total_len != 0:\n",
    "            return count/total_len\n",
    "        else:\n",
    "            return 0\n",
    "    else:\n",
    "        return 0\n",
    "\n",
    "df_train['f_str_prod_brand_score'] = df_train.apply(lambda df_train: prod_brand_score(df_train['product_uid'],df_train['search_term_str'] ) ,axis = 1)\n",
    "df_test['f_str_prod_brand_score'] = df_test.apply(lambda df_test: prod_brand_score(df_test['product_uid'],df_test['search_term_str'] ) ,axis = 1)"
   ]
  },
  {
   "cell_type": "code",
   "execution_count": 92,
   "metadata": {
    "collapsed": true
   },
   "outputs": [],
   "source": [
    "def num_prod_desc_score(uid, search_term):    \n",
    "    prod_title_list = str(df_prod[df_prod['product_uid'] == uid ][0:1]['product_description_num'].values[0]).split()\n",
    "    search_term_list = str(search_term).split()\n",
    "    total_len = len(search_term_list)\n",
    "    count = 0\n",
    "    for word in str(search_term).split():\n",
    "        count += prod_title_list.count(str(word))    \n",
    "    if total_len != 0:\n",
    "        return count/total_len\n",
    "    else:\n",
    "        return 0\n",
    "\n",
    "    \n",
    "def str_prod_desc_score(uid, search_term):\n",
    "    if isinstance(search_term, str):\n",
    "        prod_title_list = df_prod[df_prod['product_uid'] == uid ][0:1]['product_description_str'].values[0].split()\n",
    "        search_term_list = search_term.split()\n",
    "        total_len = len(search_term_list)\n",
    "        count = 0\n",
    "        for word in search_term.split():\n",
    "            count += prod_title_list.count(word)    \n",
    "        if total_len != 0:\n",
    "            return count/total_len\n",
    "        else:\n",
    "            return 0\n",
    "    else:\n",
    "        return 0\n",
    "    "
   ]
  },
  {
   "cell_type": "code",
   "execution_count": 93,
   "metadata": {
    "collapsed": false
   },
   "outputs": [],
   "source": [
    "df_train['f_str_prod_desc'] = df_train.apply(lambda df_train: str_prod_desc_score(df_train['product_uid'],df_train['search_term_str'] ) ,axis = 1)\n",
    "df_train['f_num_prod_desc'] = df_train.apply(lambda df_train: num_prod_desc_score(df_train['product_uid'],df_train['search_term_num'] ) ,axis = 1)"
   ]
  },
  {
   "cell_type": "code",
   "execution_count": 94,
   "metadata": {
    "collapsed": true
   },
   "outputs": [],
   "source": [
    "df_test['f_str_prod_desc'] = df_test.apply(lambda df_test: str_prod_desc_score(df_test['product_uid'],df_test['search_term_str'] ) ,axis = 1)\n",
    "df_test['f_num_prod_desc'] = df_test.apply(lambda df_test: num_prod_desc_score(df_test['product_uid'],df_test['search_term_num'] ) ,axis = 1)"
   ]
  },
  {
   "cell_type": "code",
   "execution_count": 130,
   "metadata": {
    "collapsed": true
   },
   "outputs": [],
   "source": [
    "def str_prod_attr_score(uid, search_term):\n",
    "    if isinstance(search_term, str): \n",
    "        l1 = []\n",
    "        for a in df_attr[df_attr['product_uid'] == 100001 ][df_attr['name'] != \"MFG Brand Name\t\"]['value_str'].iteritems():\n",
    "            l1 += str(a[1]).split()\n",
    "        l2 = [a for a in l1 if a != 'nan']\n",
    "        search_term_list = search_term.split()\n",
    "        total_len = len(search_term_list)\n",
    "        count = 0\n",
    "        for word in search_term.split():\n",
    "            count += l2.count(word)    \n",
    "        if total_len != 0:\n",
    "            return count/total_len\n",
    "        else:\n",
    "            return 0\n",
    "    else:\n",
    "        return 0\n",
    "    \n",
    "def num_prod_attr_score(uid, search_term):\n",
    "    if isinstance(search_term, str): \n",
    "        l1 = []\n",
    "        for a in df_attr[df_attr['product_uid'] == 100001 ][df_attr['name'] != \"MFG Brand Name\t\"]['value_num'].iteritems():\n",
    "            l1 += str(a[1]).split()\n",
    "        l2 = [a for a in l1 if a != 'nan']\n",
    "        search_term_list = search_term.split()\n",
    "        total_len = len(search_term_list)\n",
    "        count = 0\n",
    "        for word in search_term.split():\n",
    "            count += l2.count(word)    \n",
    "        if total_len != 0:\n",
    "            return count/total_len\n",
    "        else:\n",
    "            return 0\n",
    "    else:\n",
    "        return 0\n",
    "               \n"
   ]
  },
  {
   "cell_type": "code",
   "execution_count": 145,
   "metadata": {
    "collapsed": false
   },
   "outputs": [],
   "source": [
    "df_train['f_num_attr'] = df_train.apply(lambda df_train: num_prod_desc_score(df_train['product_uid'],df_train['search_term_num'] ) ,axis = 1)\n",
    "df_train['f_str_attr'] = df_train.apply(lambda df_train: str_prod_desc_score(df_train['product_uid'],df_train['search_term_str'] ) ,axis = 1)"
   ]
  },
  {
   "cell_type": "code",
   "execution_count": 146,
   "metadata": {
    "collapsed": true
   },
   "outputs": [],
   "source": [
    "df_test['f_num_attr'] = df_test.apply(lambda df_test: num_prod_desc_score(df_test['product_uid'],df_test['search_term_num'] ) ,axis = 1)\n",
    "df_test['f_str_attr'] = df_test.apply(lambda df_test: str_prod_desc_score(df_test['product_uid'],df_test['search_term_str'] ) ,axis = 1)"
   ]
  },
  {
   "cell_type": "code",
   "execution_count": 154,
   "metadata": {
    "collapsed": false
   },
   "outputs": [
    {
     "data": {
      "text/html": [
       "<div>\n",
       "<table border=\"1\" class=\"dataframe\">\n",
       "  <thead>\n",
       "    <tr style=\"text-align: right;\">\n",
       "      <th></th>\n",
       "      <th>id</th>\n",
       "      <th>product_uid</th>\n",
       "      <th>product_title</th>\n",
       "      <th>search_term</th>\n",
       "      <th>search_term_num</th>\n",
       "      <th>search_term_str</th>\n",
       "      <th>product_title_num</th>\n",
       "      <th>product_title_str</th>\n",
       "      <th>f_num_prod_title_score</th>\n",
       "      <th>f_str_prod_title_score</th>\n",
       "      <th>f_str_prod_brand_score</th>\n",
       "      <th>f_str_prod_desc</th>\n",
       "      <th>f_num_prod_desc</th>\n",
       "      <th>f_num_attr</th>\n",
       "      <th>f_str_attr</th>\n",
       "    </tr>\n",
       "  </thead>\n",
       "  <tbody>\n",
       "    <tr>\n",
       "      <th>0</th>\n",
       "      <td>1</td>\n",
       "      <td>100001</td>\n",
       "      <td>simpson strong tie 12 gaug angl</td>\n",
       "      <td>90deg. bracket</td>\n",
       "      <td>NaN</td>\n",
       "      <td>90deg. bracket</td>\n",
       "      <td>12.0</td>\n",
       "      <td>simpson strong tie gaug angl</td>\n",
       "      <td>0</td>\n",
       "      <td>0</td>\n",
       "      <td>0</td>\n",
       "      <td>0</td>\n",
       "      <td>0</td>\n",
       "      <td>0</td>\n",
       "      <td>0</td>\n",
       "    </tr>\n",
       "  </tbody>\n",
       "</table>\n",
       "</div>"
      ],
      "text/plain": [
       "   id  product_uid                    product_title     search_term  \\\n",
       "0   1       100001  simpson strong tie 12 gaug angl  90deg. bracket   \n",
       "\n",
       "  search_term_num search_term_str product_title_num  \\\n",
       "0             NaN  90deg. bracket              12.0   \n",
       "\n",
       "              product_title_str  f_num_prod_title_score  \\\n",
       "0  simpson strong tie gaug angl                       0   \n",
       "\n",
       "   f_str_prod_title_score  f_str_prod_brand_score  f_str_prod_desc  \\\n",
       "0                       0                       0                0   \n",
       "\n",
       "   f_num_prod_desc  f_num_attr  f_str_attr  \n",
       "0                0           0           0  "
      ]
     },
     "execution_count": 154,
     "metadata": {},
     "output_type": "execute_result"
    }
   ],
   "source": [
    "df_test.head(1)"
   ]
  },
  {
   "cell_type": "code",
   "execution_count": 125,
   "metadata": {
    "collapsed": false
   },
   "outputs": [],
   "source": [
    "train_X = df_train[['f_num_prod_title_score','f_str_prod_title_score','f_str_prod_brand_score','f_num_prod_desc','f_str_prod_desc1','f_str_attr1']]\n",
    "train_Y = df_train[['relevance']]\n",
    "\n",
    "test_X = df_test[['f_num_prod_title_score','f_str_prod_title_score','f_str_prod_brand_score','f_num_prod_desc','f_str_prod_desc1','f_str_attr1']]\n"
   ]
  },
  {
   "cell_type": "code",
   "execution_count": 126,
   "metadata": {
    "collapsed": false
   },
   "outputs": [],
   "source": [
    "from sklearn.ensemble import RandomForestRegressor\n",
    "#from sklearn.svm import SVR\n",
    "clf = RandomForestRegressor(n_estimators=500,random_state = 2016)\n",
    "clf.fit(train_X, np.array(train_Y['relevance'].values.tolist()))\n",
    "out = (clf.predict(test_X))\n",
    "df_out = pd.DataFrame(columns=['id','relevance'])\n",
    "df2 = pd.DataFrame({'id': [1], 'relevance': 2})\n",
    "df_out = df_out.append(df2)\n",
    "\n",
    "df_r1 = df_test[['id']]\n",
    "df_r2 = pd.DataFrame(out, columns=['relevance'])\n",
    "result = pd.concat([df_r1, df_r2], axis=1)\n",
    "\n"
   ]
  },
  {
   "cell_type": "code",
   "execution_count": 127,
   "metadata": {
    "collapsed": false
   },
   "outputs": [
    {
     "data": {
      "text/html": [
       "<div>\n",
       "<table border=\"1\" class=\"dataframe\">\n",
       "  <thead>\n",
       "    <tr style=\"text-align: right;\">\n",
       "      <th></th>\n",
       "      <th>id</th>\n",
       "      <th>relevance</th>\n",
       "    </tr>\n",
       "  </thead>\n",
       "  <tbody>\n",
       "  </tbody>\n",
       "</table>\n",
       "</div>"
      ],
      "text/plain": [
       "Empty DataFrame\n",
       "Columns: [id, relevance]\n",
       "Index: []"
      ]
     },
     "execution_count": 127,
     "metadata": {},
     "output_type": "execute_result"
    }
   ],
   "source": [
    "result[result.relevance > 3] "
   ]
  },
  {
   "cell_type": "code",
   "execution_count": 128,
   "metadata": {
    "collapsed": false
   },
   "outputs": [],
   "source": [
    "result.to_csv(\"results10.csv\")"
   ]
  },
  {
   "cell_type": "code",
   "execution_count": 120,
   "metadata": {
    "collapsed": false
   },
   "outputs": [
    {
     "data": {
      "text/html": [
       "<div>\n",
       "<table border=\"1\" class=\"dataframe\">\n",
       "  <thead>\n",
       "    <tr style=\"text-align: right;\">\n",
       "      <th></th>\n",
       "      <th>id</th>\n",
       "      <th>relevance</th>\n",
       "    </tr>\n",
       "  </thead>\n",
       "  <tbody>\n",
       "  </tbody>\n",
       "</table>\n",
       "</div>"
      ],
      "text/plain": [
       "Empty DataFrame\n",
       "Columns: [id, relevance]\n",
       "Index: []"
      ]
     },
     "execution_count": 120,
     "metadata": {},
     "output_type": "execute_result"
    }
   ],
   "source": [
    "result[result.relevance < 1]"
   ]
  },
  {
   "cell_type": "code",
   "execution_count": 176,
   "metadata": {
    "collapsed": true
   },
   "outputs": [],
   "source": [
    "df_train.to_excel('pre_processed_data\\df_train.xlsx')\n",
    "df_test.to_excel('pre_processed_data\\df_test.xlsx')"
   ]
  },
  {
   "cell_type": "markdown",
   "metadata": {
    "collapsed": true
   },
   "source": [
    "## TF-IDF"
   ]
  },
  {
   "cell_type": "code",
   "execution_count": 24,
   "metadata": {
    "collapsed": true
   },
   "outputs": [],
   "source": [
    "from sklearn.feature_extraction.text import CountVectorizer"
   ]
  },
  {
   "cell_type": "code",
   "execution_count": 10,
   "metadata": {
    "collapsed": false
   },
   "outputs": [
    {
     "data": {
      "text/html": [
       "<div>\n",
       "<table border=\"1\" class=\"dataframe\">\n",
       "  <thead>\n",
       "    <tr style=\"text-align: right;\">\n",
       "      <th></th>\n",
       "      <th>product_uid</th>\n",
       "      <th>product_description</th>\n",
       "      <th>product_description_num</th>\n",
       "      <th>product_description_str</th>\n",
       "    </tr>\n",
       "  </thead>\n",
       "  <tbody>\n",
       "    <tr>\n",
       "      <th>0</th>\n",
       "      <td>100001</td>\n",
       "      <td>angl make joint stronger also provid consist s...</td>\n",
       "      <td>90.0 9.0 3.0 1.0 12.0 10.0 1.0 1.0</td>\n",
       "      <td>angl make joint stronger also provid consist s...</td>\n",
       "    </tr>\n",
       "    <tr>\n",
       "      <th>1</th>\n",
       "      <td>100002</td>\n",
       "      <td>behr premium textur deckov innov solid color c...</td>\n",
       "      <td>2.0</td>\n",
       "      <td>behr premium textur deckov innov solid color c...</td>\n",
       "    </tr>\n",
       "    <tr>\n",
       "      <th>2</th>\n",
       "      <td>100003</td>\n",
       "      <td>classic architectur meet contemporari design e...</td>\n",
       "      <td>124.1 2.0 45.1</td>\n",
       "      <td>classic architectur meet contemporari design e...</td>\n",
       "    </tr>\n",
       "    <tr>\n",
       "      <th>3</th>\n",
       "      <td>100004</td>\n",
       "      <td>grape solar 265watt. polycrystallin pv solar p...</td>\n",
       "      <td>4.0 4.0</td>\n",
       "      <td>grape solar 265watt. polycrystallin pv solar p...</td>\n",
       "    </tr>\n",
       "    <tr>\n",
       "      <th>4</th>\n",
       "      <td>100005</td>\n",
       "      <td>updat bathroom delta vero singl handl shower f...</td>\n",
       "      <td>3.0 10000.0</td>\n",
       "      <td>updat bathroom delta vero singl handl shower f...</td>\n",
       "    </tr>\n",
       "  </tbody>\n",
       "</table>\n",
       "</div>"
      ],
      "text/plain": [
       "   product_uid                                product_description  \\\n",
       "0       100001  angl make joint stronger also provid consist s...   \n",
       "1       100002  behr premium textur deckov innov solid color c...   \n",
       "2       100003  classic architectur meet contemporari design e...   \n",
       "3       100004  grape solar 265watt. polycrystallin pv solar p...   \n",
       "4       100005  updat bathroom delta vero singl handl shower f...   \n",
       "\n",
       "              product_description_num  \\\n",
       "0  90.0 9.0 3.0 1.0 12.0 10.0 1.0 1.0   \n",
       "1                                 2.0   \n",
       "2                      124.1 2.0 45.1   \n",
       "3                             4.0 4.0   \n",
       "4                         3.0 10000.0   \n",
       "\n",
       "                             product_description_str  \n",
       "0  angl make joint stronger also provid consist s...  \n",
       "1  behr premium textur deckov innov solid color c...  \n",
       "2  classic architectur meet contemporari design e...  \n",
       "3  grape solar 265watt. polycrystallin pv solar p...  \n",
       "4  updat bathroom delta vero singl handl shower f...  "
      ]
     },
     "execution_count": 10,
     "metadata": {},
     "output_type": "execute_result"
    }
   ],
   "source": [
    "df_prod.head()"
   ]
  },
  {
   "cell_type": "code",
   "execution_count": 29,
   "metadata": {
    "collapsed": false
   },
   "outputs": [
    {
     "data": {
      "text/plain": [
       "CountVectorizer(analyzer='word', binary=False, decode_error='strict',\n",
       "        dtype=<class 'numpy.int64'>, encoding='utf-8', input='content',\n",
       "        lowercase=True, max_df=1.0, max_features=None, min_df=1,\n",
       "        ngram_range=(1, 1), preprocessor=None, stop_words=None,\n",
       "        strip_accents=None, token_pattern='(?u)\\\\b\\\\w\\\\w+\\\\b',\n",
       "        tokenizer=None, vocabulary=None)"
      ]
     },
     "execution_count": 29,
     "metadata": {},
     "output_type": "execute_result"
    }
   ],
   "source": [
    "bow_transformer = CountVectorizer()\n",
    "bow_transformer.fit(df_prod['product_description'])"
   ]
  },
  {
   "cell_type": "code",
   "execution_count": 80,
   "metadata": {
    "collapsed": false
   },
   "outputs": [],
   "source": [
    "test=df_prod['product_description'][1]\n",
    "a = bow_transformer.transform(test.split())\n"
   ]
  },
  {
   "cell_type": "code",
   "execution_count": 75,
   "metadata": {
    "collapsed": false
   },
   "outputs": [],
   "source": []
  },
  {
   "cell_type": "code",
   "execution_count": 55,
   "metadata": {
    "collapsed": false
   },
   "outputs": [
    {
     "name": "stdout",
     "output_type": "stream",
     "text": [
      "angl\n"
     ]
    }
   ],
   "source": [
    "print (bow_transformer.get_feature_names()[16870])"
   ]
  },
  {
   "cell_type": "code",
   "execution_count": 59,
   "metadata": {
    "collapsed": false
   },
   "outputs": [],
   "source": [
    "messages_bow = bow_transformer.transform(df_prod['product_description'])"
   ]
  },
  {
   "cell_type": "code",
   "execution_count": 61,
   "metadata": {
    "collapsed": false
   },
   "outputs": [
    {
     "name": "stdout",
     "output_type": "stream",
     "text": [
      "Shape of Sparse Matrix:  (124428, 53604)\n",
      "Amount of Non-Zero occurences:  8339983\n",
      "sparsity: 0.13%\n"
     ]
    }
   ],
   "source": [
    "print ('Shape of Sparse Matrix: ', messages_bow.shape)\n",
    "print ('Amount of Non-Zero occurences: ', messages_bow.nnz)\n",
    "print ('sparsity: %.2f%%' % (100.0 * messages_bow.nnz / (messages_bow.shape[0] * messages_bow.shape[1])))"
   ]
  },
  {
   "cell_type": "code",
   "execution_count": 62,
   "metadata": {
    "collapsed": false
   },
   "outputs": [],
   "source": [
    "from sklearn.feature_extraction.text import TfidfTransformer\n"
   ]
  },
  {
   "cell_type": "code",
   "execution_count": 72,
   "metadata": {
    "collapsed": false
   },
   "outputs": [],
   "source": [
    "tfidf_transformer = TfidfTransformer().fit(messages_bow)"
   ]
  },
  {
   "cell_type": "code",
   "execution_count": 81,
   "metadata": {
    "collapsed": false
   },
   "outputs": [
    {
     "name": "stdout",
     "output_type": "stream",
     "text": [
      "  (0, 18573)\t1.0\n",
      "  (0, 41292)\t1.0\n",
      "  (0, 48515)\t1.0\n",
      "  (0, 23857)\t1.0\n",
      "  (0, 32815)\t1.0\n",
      "  (0, 46169)\t1.0\n",
      "  (0, 22065)\t1.0\n",
      "  (0, 21921)\t1.0\n",
      "  (0, 19637)\t1.0\n",
      "  (0, 38803)\t1.0\n",
      "  (0, 52203)\t1.0\n",
      "  (0, 52831)\t1.0\n",
      "  (0, 22270)\t1.0\n",
      "  (0, 17950)\t1.0\n",
      "  (0, 34936)\t1.0\n",
      "  (0, 16111)\t1.0\n",
      "  (0, 1118)\t1.0\n",
      "  (0, 15934)\t1.0\n",
      "  (0, 43104)\t1.0\n",
      "  (0, 28385)\t1.0\n",
      "  (0, 22945)\t1.0\n",
      "  (0, 25410)\t1.0\n",
      "  (0, 21921)\t1.0\n",
      "  (0, 48946)\t1.0\n",
      "  (0, 52950)\t1.0\n",
      "  (0, 23848)\t1.0\n",
      "  (0, 42866)\t1.0\n",
      "  (0, 52517)\t1.0\n",
      "  (0, 38049)\t1.0\n",
      "  (0, 35361)\t1.0\n",
      "  (0, 18708)\t1.0\n",
      "  (0, 43167)\t1.0\n",
      "  (0, 47719)\t1.0\n",
      "  (0, 41563)\t1.0\n",
      "  (0, 41304)\t1.0\n",
      "  (0, 47731)\t1.0\n",
      "  (0, 50924)\t1.0\n",
      "  (0, 17095)\t1.0\n",
      "  (0, 18573)\t1.0\n",
      "  (0, 41482)\t1.0\n",
      "  (0, 24640)\t1.0\n",
      "  (0, 20246)\t1.0\n",
      "  (0, 43099)\t1.0\n",
      "  (0, 44837)\t0.555528900722\n",
      "  (0, 41571)\t0.588118143822\n",
      "  (0, 37863)\t0.587796469341\n",
      "  (0, 12092)\t1.0\n",
      "  (0, 28367)\t1.0\n",
      "  (0, 43246)\t1.0\n",
      "  (0, 52831)\t1.0\n",
      "  (0, 22221)\t1.0\n",
      "  (0, 23848)\t1.0\n",
      "  (0, 42327)\t1.0\n",
      "  (0, 40966)\t1.0\n",
      "  (0, 19169)\t1.0\n",
      "  (0, 24810)\t1.0\n",
      "  (0, 16622)\t1.0\n",
      "  (0, 29903)\t1.0\n",
      "  (0, 22270)\t1.0\n",
      "  (0, 40935)\t1.0\n",
      "  (0, 23848)\t1.0\n",
      "  (0, 39760)\t1.0\n",
      "  (0, 45451)\t1.0\n",
      "  (0, 1118)\t1.0\n",
      "  (0, 15934)\t1.0\n",
      "  (0, 46169)\t1.0\n",
      "  (0, 22065)\t1.0\n",
      "  (0, 21921)\t1.0\n",
      "  (0, 43109)\t1.0\n",
      "  (0, 22875)\t1.0\n",
      "  (0, 39929)\t1.0\n",
      "  (0, 22247)\t1.0\n",
      "  (0, 46573)\t1.0\n",
      "  (0, 22875)\t1.0\n",
      "  (0, 10161)\t1.0\n",
      "  (0, 41622)\t1.0\n",
      "  (0, 25410)\t1.0\n",
      "  (0, 36814)\t1.0\n",
      "  (0, 43109)\t1.0\n",
      "  (0, 27701)\t1.0\n",
      "  (0, 22785)\t1.0\n",
      "  (0, 28761)\t0.39126575245\n",
      "  (0, 13365)\t0.920277735773\n",
      "\n",
      "  (0, 21921)\t1.0\n",
      "  (0, 40033)\t1.0\n",
      "  (0, 28958)\t1.0\n",
      "  (0, 22945)\t1.0\n",
      "  (0, 48515)\t1.0\n",
      "  (0, 45837)\t1.0\n",
      "  (0, 43109)\t1.0\n",
      "  (0, 27701)\t1.0\n",
      "  (0, 18708)\t1.0\n",
      "  (0, 43167)\t1.0\n",
      "  (0, 41304)\t1.0\n",
      "  (0, 17127)\t1.0\n",
      "  (0, 18573)\t1.0\n",
      "  (0, 41482)\t1.0\n",
      "  (0, 52831)\t1.0\n",
      "  (0, 22270)\t1.0\n",
      "  (0, 47731)\t1.0\n",
      "  (0, 15966)\t1.0\n",
      "  (0, 39467)\t1.0\n",
      "  (0, 22065)\t1.0\n",
      "  (0, 36251)\t1.0\n",
      "  (0, 51166)\t1.0\n",
      "  (0, 44635)\t1.0\n",
      "  (0, 41423)\t1.0\n",
      "  (0, 43035)\t1.0\n",
      "  (0, 22065)\t1.0\n",
      "  (0, 17752)\t1.0\n",
      "  (0, 48934)\t1.0\n",
      "  (0, 47203)\t1.0\n",
      "  (0, 38882)\t1.0\n",
      "  (0, 41385)\t1.0\n",
      "  (0, 32598)\t1.0\n",
      "  (0, 39467)\t1.0\n",
      "  (0, 20498)\t1.0\n",
      "  (0, 27401)\t1.0\n",
      "  (0, 28252)\t1.0\n",
      "  (0, 46965)\t1.0\n",
      "  (0, 20131)\t1.0\n",
      "  (0, 21907)\t1.0\n",
      "  (0, 23201)\t1.0\n",
      "  (0, 37055)\t1.0\n",
      "  (0, 43347)\t1.0\n",
      "  (0, 51802)\t1.0\n"
     ]
    }
   ],
   "source": [
    "tfidf4 = tfidf_transformer.transform(a)\n",
    "for a in tfidf4:\n",
    "    print (a)"
   ]
  },
  {
   "cell_type": "code",
   "execution_count": 78,
   "metadata": {
    "collapsed": false
   },
   "outputs": [
    {
     "data": {
      "text/plain": [
       "<124428x53604 sparse matrix of type '<class 'numpy.int64'>'\n",
       "\twith 8339983 stored elements in Compressed Sparse Row format>"
      ]
     },
     "execution_count": 78,
     "metadata": {},
     "output_type": "execute_result"
    }
   ],
   "source": [
    "messages_bow"
   ]
  },
  {
   "cell_type": "code",
   "execution_count": 105,
   "metadata": {
    "collapsed": false
   },
   "outputs": [
    {
     "name": "stdout",
     "output_type": "stream",
     "text": [
      "2.50646312538\n"
     ]
    }
   ],
   "source": [
    "print (tfidf_transformer.idf_[bow_transformer.vocabulary_['product']])"
   ]
  },
  {
   "cell_type": "code",
   "execution_count": 88,
   "metadata": {
    "collapsed": false
   },
   "outputs": [
    {
     "data": {
      "text/plain": [
       "'behr premium textur deckov innov solid color coat bring old weather wood concret back life advanc 100% acryl resin formula creat durabl coat tire worn deck rejuven whole new look best result sure properli prepar surfac use applic behr product display california residents: see&nbsp;proposit 65in. format reviv wood composit deck rail porch boat dock also great concret pool deck patio sidewalk 100% acryl solid color coat resist crack peel conceal splinter crack 1/4in. provid durabl mildew resist finish cover 75sq.ft. 2 coat per gallon creat textur slip resist finish best result prepar appropri behr product wood concret surfac actual paint color may vari screen printer repres color avail tint store onlin price includ paint care fee follow states: ca co ct mn ri vt'"
      ]
     },
     "execution_count": 88,
     "metadata": {},
     "output_type": "execute_result"
    }
   ],
   "source": [
    "df_prod['product_description'][1]"
   ]
  },
  {
   "cell_type": "code",
   "execution_count": 97,
   "metadata": {
    "collapsed": false
   },
   "outputs": [
    {
     "data": {
      "text/plain": [
       "48934"
      ]
     },
     "execution_count": 97,
     "metadata": {},
     "output_type": "execute_result"
    }
   ],
   "source": [
    "bow_transformer.vocabulary_['tint']"
   ]
  },
  {
   "cell_type": "code",
   "execution_count": 123,
   "metadata": {
    "collapsed": true
   },
   "outputs": [],
   "source": [
    "def str_prod_desc_score1(uid, search_term):\n",
    "    if isinstance(search_term, str):\n",
    "        prod_title_list = df_prod[df_prod['product_uid'] == uid ][0:1]['product_description_str'].values[0].split()\n",
    "        search_term_list = search_term.split()\n",
    "        total_len = len(search_term_list)\n",
    "        count = 0\n",
    "        for word in search_term.split():\n",
    "            try:\n",
    "                count += prod_title_list.count(word)  * tfidf_transformer.idf_[bow_transformer.vocabulary_[word]]\n",
    "            except:\n",
    "                count += prod_title_list.count(word)    \n",
    "        return count\n",
    "    else:\n",
    "        return 0\n",
    "def str_prod_attr_score1(uid, search_term):\n",
    "    if isinstance(search_term, str): \n",
    "        l1 = []\n",
    "        for a in df_attr[df_attr['product_uid'] == 100001 ][df_attr['name'] != \"MFG Brand Name\t\"]['value_str'].iteritems():\n",
    "            l1 += str(a[1]).split()\n",
    "        l2 = [a for a in l1 if a != 'nan']\n",
    "        search_term_list = search_term.split()\n",
    "        total_len = len(search_term_list)\n",
    "        count = 0\n",
    "        for word in search_term.split():\n",
    "            try:\n",
    "                count += l2.count(word)     * tfidf_transformer.idf_[bow_transformer.vocabulary_[word]]\n",
    "            except:\n",
    "                count += l2.count(word)    \n",
    "        return count\n",
    "    else:\n",
    "        return 0"
   ]
  },
  {
   "cell_type": "code",
   "execution_count": 107,
   "metadata": {
    "collapsed": true
   },
   "outputs": [],
   "source": []
  },
  {
   "cell_type": "code",
   "execution_count": 124,
   "metadata": {
    "collapsed": true
   },
   "outputs": [],
   "source": [
    "df_train['f_str_prod_desc1'] = df_train.apply(lambda df_train: str_prod_desc_score1(df_train['product_uid'],df_train['search_term_str'] ) ,axis = 1)\n",
    "df_test['f_str_prod_desc1'] = df_test.apply(lambda df_test: str_prod_desc_score1(df_test['product_uid'],df_test['search_term_str'] ) ,axis = 1)\n",
    "\n",
    "df_train['f_str_attr1'] = df_train.apply(lambda df_train: str_prod_desc_score1(df_train['product_uid'],df_train['search_term_str'] ) ,axis = 1)\n",
    "df_test['f_str_attr1'] = df_test.apply(lambda df_test: str_prod_desc_score1(df_test['product_uid'],df_test['search_term_str'] ) ,axis = 1)"
   ]
  },
  {
   "cell_type": "code",
   "execution_count": 110,
   "metadata": {
    "collapsed": false
   },
   "outputs": [
    {
     "data": {
      "text/html": [
       "<div>\n",
       "<table border=\"1\" class=\"dataframe\">\n",
       "  <thead>\n",
       "    <tr style=\"text-align: right;\">\n",
       "      <th></th>\n",
       "      <th>id</th>\n",
       "      <th>product_uid</th>\n",
       "      <th>product_title</th>\n",
       "      <th>search_term</th>\n",
       "      <th>search_term_num</th>\n",
       "      <th>search_term_str</th>\n",
       "      <th>product_title_num</th>\n",
       "      <th>product_title_str</th>\n",
       "      <th>f_num_prod_title_score</th>\n",
       "      <th>f_str_prod_title_score</th>\n",
       "      <th>f_str_prod_brand_score</th>\n",
       "      <th>f_str_prod_desc</th>\n",
       "      <th>f_num_prod_desc</th>\n",
       "      <th>f_num_attr</th>\n",
       "      <th>f_str_attr</th>\n",
       "      <th>f_str_prod_desc1</th>\n",
       "    </tr>\n",
       "  </thead>\n",
       "  <tbody>\n",
       "    <tr>\n",
       "      <th>0</th>\n",
       "      <td>1</td>\n",
       "      <td>100001</td>\n",
       "      <td>simpson strong tie 12 gaug angl</td>\n",
       "      <td>90deg. bracket</td>\n",
       "      <td>NaN</td>\n",
       "      <td>90deg. bracket</td>\n",
       "      <td>12.0</td>\n",
       "      <td>simpson strong tie gaug angl</td>\n",
       "      <td>0</td>\n",
       "      <td>0.000000</td>\n",
       "      <td>0.000000</td>\n",
       "      <td>0.000000</td>\n",
       "      <td>0</td>\n",
       "      <td>0</td>\n",
       "      <td>0.000000</td>\n",
       "      <td>0.000000</td>\n",
       "    </tr>\n",
       "    <tr>\n",
       "      <th>1</th>\n",
       "      <td>4</td>\n",
       "      <td>100001</td>\n",
       "      <td>simpson strong tie 12 gaug angl</td>\n",
       "      <td>metal l bracket</td>\n",
       "      <td>NaN</td>\n",
       "      <td>metal l bracket</td>\n",
       "      <td>12.0</td>\n",
       "      <td>simpson strong tie gaug angl</td>\n",
       "      <td>0</td>\n",
       "      <td>0.000000</td>\n",
       "      <td>0.000000</td>\n",
       "      <td>0.000000</td>\n",
       "      <td>0</td>\n",
       "      <td>0</td>\n",
       "      <td>0.000000</td>\n",
       "      <td>0.000000</td>\n",
       "    </tr>\n",
       "    <tr>\n",
       "      <th>2</th>\n",
       "      <td>5</td>\n",
       "      <td>100001</td>\n",
       "      <td>simpson strong tie 12 gaug angl</td>\n",
       "      <td>simpson sky abl</td>\n",
       "      <td>NaN</td>\n",
       "      <td>simpson sky abl</td>\n",
       "      <td>12.0</td>\n",
       "      <td>simpson strong tie gaug angl</td>\n",
       "      <td>0</td>\n",
       "      <td>0.333333</td>\n",
       "      <td>0.333333</td>\n",
       "      <td>0.333333</td>\n",
       "      <td>0</td>\n",
       "      <td>0</td>\n",
       "      <td>0.333333</td>\n",
       "      <td>2.231207</td>\n",
       "    </tr>\n",
       "    <tr>\n",
       "      <th>3</th>\n",
       "      <td>6</td>\n",
       "      <td>100001</td>\n",
       "      <td>simpson strong tie 12 gaug angl</td>\n",
       "      <td>simpson strong tie</td>\n",
       "      <td>NaN</td>\n",
       "      <td>simpson strong tie</td>\n",
       "      <td>12.0</td>\n",
       "      <td>simpson strong tie gaug angl</td>\n",
       "      <td>0</td>\n",
       "      <td>1.000000</td>\n",
       "      <td>0.333333</td>\n",
       "      <td>1.666667</td>\n",
       "      <td>0</td>\n",
       "      <td>0</td>\n",
       "      <td>1.666667</td>\n",
       "      <td>8.203344</td>\n",
       "    </tr>\n",
       "    <tr>\n",
       "      <th>4</th>\n",
       "      <td>7</td>\n",
       "      <td>100001</td>\n",
       "      <td>simpson strong tie 12 gaug angl</td>\n",
       "      <td>simpson strong tie hcc 668</td>\n",
       "      <td>668.0</td>\n",
       "      <td>simpson strong tie hcc</td>\n",
       "      <td>12.0</td>\n",
       "      <td>simpson strong tie gaug angl</td>\n",
       "      <td>0</td>\n",
       "      <td>0.750000</td>\n",
       "      <td>0.250000</td>\n",
       "      <td>1.250000</td>\n",
       "      <td>0</td>\n",
       "      <td>0</td>\n",
       "      <td>1.250000</td>\n",
       "      <td>6.152508</td>\n",
       "    </tr>\n",
       "  </tbody>\n",
       "</table>\n",
       "</div>"
      ],
      "text/plain": [
       "   id  product_uid                    product_title  \\\n",
       "0   1       100001  simpson strong tie 12 gaug angl   \n",
       "1   4       100001  simpson strong tie 12 gaug angl   \n",
       "2   5       100001  simpson strong tie 12 gaug angl   \n",
       "3   6       100001  simpson strong tie 12 gaug angl   \n",
       "4   7       100001  simpson strong tie 12 gaug angl   \n",
       "\n",
       "                  search_term search_term_num         search_term_str  \\\n",
       "0              90deg. bracket             NaN          90deg. bracket   \n",
       "1             metal l bracket             NaN         metal l bracket   \n",
       "2             simpson sky abl             NaN         simpson sky abl   \n",
       "3          simpson strong tie             NaN      simpson strong tie   \n",
       "4  simpson strong tie hcc 668           668.0  simpson strong tie hcc   \n",
       "\n",
       "  product_title_num             product_title_str  f_num_prod_title_score  \\\n",
       "0              12.0  simpson strong tie gaug angl                       0   \n",
       "1              12.0  simpson strong tie gaug angl                       0   \n",
       "2              12.0  simpson strong tie gaug angl                       0   \n",
       "3              12.0  simpson strong tie gaug angl                       0   \n",
       "4              12.0  simpson strong tie gaug angl                       0   \n",
       "\n",
       "   f_str_prod_title_score  f_str_prod_brand_score  f_str_prod_desc  \\\n",
       "0                0.000000                0.000000         0.000000   \n",
       "1                0.000000                0.000000         0.000000   \n",
       "2                0.333333                0.333333         0.333333   \n",
       "3                1.000000                0.333333         1.666667   \n",
       "4                0.750000                0.250000         1.250000   \n",
       "\n",
       "   f_num_prod_desc  f_num_attr  f_str_attr  f_str_prod_desc1  \n",
       "0                0           0    0.000000          0.000000  \n",
       "1                0           0    0.000000          0.000000  \n",
       "2                0           0    0.333333          2.231207  \n",
       "3                0           0    1.666667          8.203344  \n",
       "4                0           0    1.250000          6.152508  "
      ]
     },
     "execution_count": 110,
     "metadata": {},
     "output_type": "execute_result"
    }
   ],
   "source": [
    "df_test.head()"
   ]
  },
  {
   "cell_type": "code",
   "execution_count": 122,
   "metadata": {
    "collapsed": true
   },
   "outputs": [],
   "source": [
    "def str_prod_attr_score1(uid, search_term):\n",
    "    if isinstance(search_term, str): \n",
    "        l1 = []\n",
    "        for a in df_attr[df_attr['product_uid'] == 100001 ][df_attr['name'] != \"MFG Brand Name\t\"]['value_str'].iteritems():\n",
    "            l1 += str(a[1]).split()\n",
    "        l2 = [a for a in l1 if a != 'nan']\n",
    "        search_term_list = search_term.split()\n",
    "        total_len = len(search_term_list)\n",
    "        count = 0\n",
    "        for word in search_term.split():\n",
    "            try:\n",
    "                count += l2.count(word)     * tfidf_transformer.idf_[bow_transformer.vocabulary_[word]]\n",
    "            except:\n",
    "                count += l2.count(word)    \n",
    "        return count\n",
    "    else:\n",
    "        return 0"
   ]
  },
  {
   "cell_type": "code",
   "execution_count": 112,
   "metadata": {
    "collapsed": true
   },
   "outputs": [],
   "source": [
    "df_train['f_str_attr1'] = df_train.apply(lambda df_train: str_prod_desc_score1(df_train['product_uid'],df_train['search_term_str'] ) ,axis = 1)\n",
    "df_test['f_str_attr1'] = df_test.apply(lambda df_test: str_prod_desc_score1(df_test['product_uid'],df_test['search_term_str'] ) ,axis = 1)"
   ]
  },
  {
   "cell_type": "code",
   "execution_count": 113,
   "metadata": {
    "collapsed": false
   },
   "outputs": [
    {
     "data": {
      "text/html": [
       "<div>\n",
       "<table border=\"1\" class=\"dataframe\">\n",
       "  <thead>\n",
       "    <tr style=\"text-align: right;\">\n",
       "      <th></th>\n",
       "      <th>id</th>\n",
       "      <th>product_uid</th>\n",
       "      <th>product_title</th>\n",
       "      <th>search_term</th>\n",
       "      <th>relevance</th>\n",
       "      <th>search_term_num</th>\n",
       "      <th>search_term_str</th>\n",
       "      <th>product_title_num</th>\n",
       "      <th>product_title_str</th>\n",
       "      <th>f_str_prod_brand_score</th>\n",
       "      <th>f_str_prod_desc</th>\n",
       "      <th>f_num_prod_desc</th>\n",
       "      <th>f_num_attr</th>\n",
       "      <th>f_str_attr</th>\n",
       "      <th>f_num_prod_title_score</th>\n",
       "      <th>f_str_prod_title_score</th>\n",
       "      <th>f_str_prod_desc1</th>\n",
       "      <th>f_str_attr1</th>\n",
       "    </tr>\n",
       "  </thead>\n",
       "  <tbody>\n",
       "    <tr>\n",
       "      <th>0</th>\n",
       "      <td>2</td>\n",
       "      <td>100001</td>\n",
       "      <td>simpson strong tie 12 gaug angl</td>\n",
       "      <td>angl bracket</td>\n",
       "      <td>3.00</td>\n",
       "      <td>NaN</td>\n",
       "      <td>angl bracket</td>\n",
       "      <td>12.0</td>\n",
       "      <td>simpson strong tie gaug angl</td>\n",
       "      <td>0</td>\n",
       "      <td>1.500000</td>\n",
       "      <td>0</td>\n",
       "      <td>0</td>\n",
       "      <td>1.500000</td>\n",
       "      <td>0</td>\n",
       "      <td>0.500000</td>\n",
       "      <td>6.737846</td>\n",
       "      <td>6.737846</td>\n",
       "    </tr>\n",
       "    <tr>\n",
       "      <th>1</th>\n",
       "      <td>3</td>\n",
       "      <td>100001</td>\n",
       "      <td>simpson strong tie 12 gaug angl</td>\n",
       "      <td>l bracket</td>\n",
       "      <td>2.50</td>\n",
       "      <td>NaN</td>\n",
       "      <td>l bracket</td>\n",
       "      <td>12.0</td>\n",
       "      <td>simpson strong tie gaug angl</td>\n",
       "      <td>0</td>\n",
       "      <td>0.000000</td>\n",
       "      <td>0</td>\n",
       "      <td>0</td>\n",
       "      <td>0.000000</td>\n",
       "      <td>0</td>\n",
       "      <td>0.000000</td>\n",
       "      <td>0.000000</td>\n",
       "      <td>0.000000</td>\n",
       "    </tr>\n",
       "    <tr>\n",
       "      <th>2</th>\n",
       "      <td>9</td>\n",
       "      <td>100002</td>\n",
       "      <td>behr premium textur deck 1gal. #sc 141 tugboat...</td>\n",
       "      <td>deck</td>\n",
       "      <td>3.00</td>\n",
       "      <td>NaN</td>\n",
       "      <td>deck</td>\n",
       "      <td>141.0</td>\n",
       "      <td>behr premium textur deck 1gal. #sc tugboat woo...</td>\n",
       "      <td>0</td>\n",
       "      <td>3.000000</td>\n",
       "      <td>0</td>\n",
       "      <td>0</td>\n",
       "      <td>3.000000</td>\n",
       "      <td>0</td>\n",
       "      <td>1.000000</td>\n",
       "      <td>12.617202</td>\n",
       "      <td>12.617202</td>\n",
       "    </tr>\n",
       "    <tr>\n",
       "      <th>3</th>\n",
       "      <td>16</td>\n",
       "      <td>100005</td>\n",
       "      <td>delta vero 1 handl shower faucet trim kit chro...</td>\n",
       "      <td>rain shower head</td>\n",
       "      <td>2.33</td>\n",
       "      <td>NaN</td>\n",
       "      <td>rain shower head</td>\n",
       "      <td>1.0</td>\n",
       "      <td>delta vero handl shower faucet trim kit chrome...</td>\n",
       "      <td>0</td>\n",
       "      <td>0.333333</td>\n",
       "      <td>0</td>\n",
       "      <td>0</td>\n",
       "      <td>0.333333</td>\n",
       "      <td>0</td>\n",
       "      <td>0.333333</td>\n",
       "      <td>1.384526</td>\n",
       "      <td>1.384526</td>\n",
       "    </tr>\n",
       "    <tr>\n",
       "      <th>4</th>\n",
       "      <td>17</td>\n",
       "      <td>100005</td>\n",
       "      <td>delta vero 1 handl shower faucet trim kit chro...</td>\n",
       "      <td>shower faucet</td>\n",
       "      <td>2.67</td>\n",
       "      <td>NaN</td>\n",
       "      <td>shower faucet</td>\n",
       "      <td>1.0</td>\n",
       "      <td>delta vero handl shower faucet trim kit chrome...</td>\n",
       "      <td>0</td>\n",
       "      <td>1.000000</td>\n",
       "      <td>0</td>\n",
       "      <td>0</td>\n",
       "      <td>1.000000</td>\n",
       "      <td>0</td>\n",
       "      <td>1.000000</td>\n",
       "      <td>4.035147</td>\n",
       "      <td>4.035147</td>\n",
       "    </tr>\n",
       "  </tbody>\n",
       "</table>\n",
       "</div>"
      ],
      "text/plain": [
       "   id  product_uid                                      product_title  \\\n",
       "0   2       100001                    simpson strong tie 12 gaug angl   \n",
       "1   3       100001                    simpson strong tie 12 gaug angl   \n",
       "2   9       100002  behr premium textur deck 1gal. #sc 141 tugboat...   \n",
       "3  16       100005  delta vero 1 handl shower faucet trim kit chro...   \n",
       "4  17       100005  delta vero 1 handl shower faucet trim kit chro...   \n",
       "\n",
       "        search_term  relevance search_term_num   search_term_str  \\\n",
       "0      angl bracket       3.00             NaN      angl bracket   \n",
       "1         l bracket       2.50             NaN         l bracket   \n",
       "2              deck       3.00             NaN              deck   \n",
       "3  rain shower head       2.33             NaN  rain shower head   \n",
       "4     shower faucet       2.67             NaN     shower faucet   \n",
       "\n",
       "  product_title_num                                  product_title_str  \\\n",
       "0              12.0                       simpson strong tie gaug angl   \n",
       "1              12.0                       simpson strong tie gaug angl   \n",
       "2             141.0  behr premium textur deck 1gal. #sc tugboat woo...   \n",
       "3               1.0  delta vero handl shower faucet trim kit chrome...   \n",
       "4               1.0  delta vero handl shower faucet trim kit chrome...   \n",
       "\n",
       "   f_str_prod_brand_score  f_str_prod_desc  f_num_prod_desc  f_num_attr  \\\n",
       "0                       0         1.500000                0           0   \n",
       "1                       0         0.000000                0           0   \n",
       "2                       0         3.000000                0           0   \n",
       "3                       0         0.333333                0           0   \n",
       "4                       0         1.000000                0           0   \n",
       "\n",
       "   f_str_attr  f_num_prod_title_score  f_str_prod_title_score  \\\n",
       "0    1.500000                       0                0.500000   \n",
       "1    0.000000                       0                0.000000   \n",
       "2    3.000000                       0                1.000000   \n",
       "3    0.333333                       0                0.333333   \n",
       "4    1.000000                       0                1.000000   \n",
       "\n",
       "   f_str_prod_desc1  f_str_attr1  \n",
       "0          6.737846     6.737846  \n",
       "1          0.000000     0.000000  \n",
       "2         12.617202    12.617202  \n",
       "3          1.384526     1.384526  \n",
       "4          4.035147     4.035147  "
      ]
     },
     "execution_count": 113,
     "metadata": {},
     "output_type": "execute_result"
    }
   ],
   "source": [
    "df_train.head()"
   ]
  },
  {
   "cell_type": "code",
   "execution_count": 1,
   "metadata": {
    "collapsed": true
   },
   "outputs": [],
   "source": [
    "df_train['f_str_prod_title_score'] = df_train.apply(lambda df_train: str_prod_title_score(df_train['product_uid'],df_train['search_term_str'] ) ,axis ="
   ]
  },
  {
   "cell_type": "code",
   "execution_count": null,
   "metadata": {
    "collapsed": true
   },
   "outputs": [],
   "source": []
  }
 ],
 "metadata": {
  "kernelspec": {
   "display_name": "Python 3",
   "language": "python",
   "name": "python3"
  },
  "language_info": {
   "codemirror_mode": {
    "name": "ipython",
    "version": 3
   },
   "file_extension": ".py",
   "mimetype": "text/x-python",
   "name": "python",
   "nbconvert_exporter": "python",
   "pygments_lexer": "ipython3",
   "version": "3.5.0"
  }
 },
 "nbformat": 4,
 "nbformat_minor": 0
}
