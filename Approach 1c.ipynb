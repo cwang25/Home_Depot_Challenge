{
 "cells": [
  {
   "cell_type": "code",
   "execution_count": 1,
   "metadata": {
    "collapsed": true
   },
   "outputs": [],
   "source": [
    "import time\n",
    "import numpy as np\n",
    "import pandas as pd\n",
    "from sklearn.ensemble import RandomForestRegressor\n",
    "#from sklearn import pipeline, model_selection\n",
    "from sklearn import pipeline, grid_search\n",
    "#from sklearn.feature_extraction import DictVectorizer\n",
    "from sklearn.base import BaseEstimator, TransformerMixin\n",
    "from sklearn.pipeline import FeatureUnion\n",
    "from sklearn.decomposition import TruncatedSVD\n",
    "#from sklearn.feature_extraction.text import CountVectorizer, TfidfTransformer\n",
    "from sklearn.feature_extraction.text import TfidfVectorizer\n",
    "from sklearn.metrics import mean_squared_error, make_scorer\n",
    "#from nltk.metrics import edit_distance\n",
    "from nltk.stem.porter import *\n",
    "stemmer = PorterStemmer()\n",
    "#from nltk.stem.snowball import SnowballStemmer #0.003 improvement but takes twice as long as PorterStemmer\n",
    "#stemmer = SnowballStemmer('english')\n",
    "import re\n",
    "#import enchant\n",
    "import random\n",
    "random.seed(2016)\n",
    "import string\n",
    "from nltk.corpus import stopwords\n",
    "from nltk.stem import WordNetLemmatizer\n",
    "\n",
    "#import enchant\n",
    "\n"
   ]
  },
  {
   "cell_type": "code",
   "execution_count": 120,
   "metadata": {
    "collapsed": false
   },
   "outputs": [],
   "source": [
    "def isFloat(string):\n",
    "    try:\n",
    "        float(string)\n",
    "        return True\n",
    "    except ValueError:\n",
    "        return False\n",
    "\n",
    "def eval_f(expr):\n",
    "    first = ''\n",
    "    second = \"\"\n",
    "    flag = 0\n",
    "\n",
    "    if expr.find(\"/\") == 1:    \n",
    "        for a in expr:            \n",
    "            if a == \"/\":\n",
    "                flag = 1\n",
    "                continue\n",
    "            if flag == 0:\n",
    "                first += a\n",
    "            if flag == 1:\n",
    "                second += a\n",
    "        \n",
    "        if (first.isnumeric() == True and  second.isnumeric() == True):\n",
    "            if (float(second)!= 0):\n",
    "                return (float(first)/float(second))\n",
    "            else:\n",
    "                return 1000\n",
    "    else:\n",
    "        if (expr.isnumeric()):\n",
    "            return float(expr)\n",
    "        else:\n",
    "            return 1"
   ]
  },
  {
   "cell_type": "code",
   "execution_count": 134,
   "metadata": {
    "collapsed": false
   },
   "outputs": [],
   "source": [
    "def multiply_search(exp):\n",
    "    if isFloat(exp):\n",
    "        return 0\n",
    "    a = exp.split()\n",
    "    \n",
    "    prod = 0\n",
    "    for i in range(0,len(a)):\n",
    "        if a[i] == 'xbi':        \n",
    "            \n",
    "            if (i+1 != len(a)):\n",
    "                #print (a[i-1],a[i+1])\n",
    "                try:\n",
    "                    prod = eval_f(re.sub(\"[a-z.]\", \"\",a[i-1])) * eval_f(re.sub(\"[a-z.]\", \"\",a[i+1]))\n",
    "                except Exception as e:\n",
    "                    pass\n",
    "                \n",
    "                a[i] = str(prod)\n",
    "                #print(prod)\n",
    "   \n",
    "    return (\" \".join(a))   \n",
    "\n",
    "def to_float(exp):\n",
    "    if isinstance(exp, str): \n",
    "        s = (\" \").join([str(float(z)) for z in exp.split(\" \") if isFloat(z) ])        \n",
    "        return s\n",
    "def to_str(exp):\n",
    "    if isinstance(exp, str): \n",
    "        s = (\" \").join([z for z in exp.split(\" \") if not isFloat(z) ])\n",
    "        return s\n",
    "\n",
    "    \n",
    "  \n"
   ]
  },
  {
   "cell_type": "code",
   "execution_count": 12,
   "metadata": {
    "collapsed": true
   },
   "outputs": [],
   "source": [
    "def prod_attr_score(uid, search_term):\n",
    "    if isinstance(search_term, str): \n",
    "        attr_list  = list()\n",
    "        count = 0\n",
    "        total_len = 0\n",
    "        for a in df_attr[df_attr.product_uid == uid].iterrows():            \n",
    "                if not a[1][1] is None and a[1][1].find(\"Bullet\") == 0 :\n",
    "                    if not a[1][2] is None:\n",
    "                        for b in  (a[1][2].split()):\n",
    "                            if isFloat(b) is False:\n",
    "                                attr_list.append(b)\n",
    "        #print (attr_list, search_term)      \n",
    "        \n",
    "        for word in search_term.split():\n",
    "            if isFloat(word) is True:\n",
    "                continue\n",
    "            if word in attr_list:\n",
    "                count += 1\n",
    "            total_len += 1\n",
    "        #print(count)        \n",
    "        return count\n",
    "        \n"
   ]
  },
  {
   "cell_type": "code",
   "execution_count": 13,
   "metadata": {
    "collapsed": true
   },
   "outputs": [],
   "source": [
    "def prod_attr_score_num(uid, search_term):\n",
    "    unit_list = [\"(in.)\", \"(lb.)\", \"(volts.)\", \"(watts)\",\"sq.\" ,\"(amps)\",\"(min.)\",\"(hours)\",\"(ft.)\" ]\n",
    "    if isinstance(search_term, str): \n",
    "        flag = 0\n",
    "        attr_list  = list()\n",
    "        count = 0\n",
    "        total_len = 0\n",
    "        for a in df_attr[df_attr.product_uid == uid].iterrows():            \n",
    "                if not a is None:\n",
    "                    for name_word in a[1][1].split():\n",
    "                        if name_word in unit_list or (a[1][2] is not None and isFloat(a[1][2]) == True):\n",
    "                            flag = 1\n",
    "                        else:\n",
    "                            flag = 0\n",
    "                    if not a[1][2] is None and flag == 1:\n",
    "                        for b in  (a[1][2].split()):\n",
    "                            if isFloat(b) is True:\n",
    "                                attr_list.append(float(b))\n",
    "        #print (attr_list, search_term)      \n",
    "        #print (attr_list,search_term)\n",
    "        for word in search_term.split():\n",
    "            if isFloat(word) is False:\n",
    "                continue\n",
    "            if float(word) in attr_list:\n",
    "                count += 1\n",
    "            total_len += 1\n",
    "        #print(count)        \n",
    "            return count\n",
    "        \n"
   ]
  },
  {
   "cell_type": "code",
   "execution_count": 129,
   "metadata": {
    "collapsed": true
   },
   "outputs": [],
   "source": [
    "df_train = pd.read_excel('pre_processed_data\\df_train.xlsx')\n",
    "df_test = pd.read_excel('pre_processed_data\\df_test.xlsx')\n",
    "df_prod = pd.read_excel('pre_processed_data\\df_prod.xlsx')\n",
    "df_brand = pd.read_excel('pre_processed_data\\df_brand.xlsx')\n",
    "df_attr = pd.read_excel('pre_processed_data\\df_attr.xlsx')"
   ]
  },
  {
   "cell_type": "code",
   "execution_count": null,
   "metadata": {
    "collapsed": true
   },
   "outputs": [],
   "source": [
    "df_train['attr_bullet_score']  = df_train.apply(lambda df_train: prod_attr_score(df_train['product_uid'],df_train['search_term'] ) ,axis = 1)\n",
    "\n",
    "df_test['attr_bullet_score']  = df_test.apply(lambda df_test: prod_attr_score(df_test['product_uid'],df_test['search_term'] ) ,axis = 1)\n",
    "\n",
    "df_train['attr_bullet_score_num']  = df_train.apply(lambda df_train: prod_attr_score_num(df_train['product_uid'],df_train['search_term'] ) ,axis = 1)\n",
    "\n",
    "df_test['attr_bullet_score_num']  = df_test.apply(lambda df_test: prod_attr_score_num(df_test['product_uid'],df_test['search_term'] ) ,axis = 1)"
   ]
  },
  {
   "cell_type": "code",
   "execution_count": 6,
   "metadata": {
    "collapsed": true
   },
   "outputs": [],
   "source": [
    "train_X = df_train[['prod_title_score','prod_brand_score']]#,'attr_bullet_score','attr_bullet_score_num']]\n",
    "train_Y = df_train[['relevance']]\n",
    "\n",
    "test_X = df_test[['prod_title_score','prod_brand_score']]#,'attr_bullet_score','attr_bullet_score_num']]\n",
    "\n",
    "train_X = train_X.fillna(0)\n",
    "test_X = test_X.fillna(0)"
   ]
  },
  {
   "cell_type": "code",
   "execution_count": 7,
   "metadata": {
    "collapsed": true
   },
   "outputs": [],
   "source": [
    "from sklearn.ensemble import RandomForestRegressor\n",
    "clf = RandomForestRegressor(random_state=2016, n_estimators=1000)\n",
    "clf.fit(train_X, np.array(train_Y['relevance'].values.tolist()))\n",
    "out = (clf.predict(test_X))\n",
    "df_out = pd.DataFrame(columns=['id','relevance'])\n",
    "df2 = pd.DataFrame({'id': [1], 'relevance': 2})\n",
    "df_out = df_out.append(df2)\n",
    "\n",
    "df_r1 = df_test[['id']]\n",
    "df_r2 = pd.DataFrame(out, columns=['relevance'])\n",
    "result = pd.concat([df_r1, df_r2], axis=1)\n",
    "result.to_csv(\"results5.csv\")\n"
   ]
  },
  {
   "cell_type": "code",
   "execution_count": 25,
   "metadata": {
    "collapsed": false
   },
   "outputs": [],
   "source": []
  },
  {
   "cell_type": "code",
   "execution_count": 144,
   "metadata": {
    "collapsed": false
   },
   "outputs": [],
   "source": [
    "df_test['search_term'] = df_test['search_term'].apply(multiply_search)\n",
    "df_test['search_term_num'] = df_test['search_term'].apply(to_float)\n",
    "df_test['search_term_str'] = df_test['search_term'].apply(to_str)\n",
    "\n",
    "\n",
    "df_train['search_term'] = df_train['search_term'].apply(multiply_search)\n",
    "df_train['search_term_num'] = df_train['search_term'].apply(to_float)\n",
    "df_train['search_term_str'] = df_train['search_term'].apply(to_str)\n",
    "\n"
   ]
  },
  {
   "cell_type": "code",
   "execution_count": 131,
   "metadata": {
    "collapsed": false
   },
   "outputs": [],
   "source": [
    "df_attr['value'] = df_attr['value'].apply(multiply_search)\n",
    "df_attr['value_num'] = df_attr['value'].apply(to_float)\n",
    "df_attr['value_str'] = df_attr['value'].apply(to_str)"
   ]
  },
  {
   "cell_type": "code",
   "execution_count": 132,
   "metadata": {
    "collapsed": false
   },
   "outputs": [
    {
     "data": {
      "text/html": [
       "<div>\n",
       "<table border=\"1\" class=\"dataframe\">\n",
       "  <thead>\n",
       "    <tr style=\"text-align: right;\">\n",
       "      <th></th>\n",
       "      <th>product_uid</th>\n",
       "      <th>name</th>\n",
       "      <th>value</th>\n",
       "      <th>value_num</th>\n",
       "      <th>value_str</th>\n",
       "    </tr>\n",
       "  </thead>\n",
       "  <tbody>\n",
       "    <tr>\n",
       "      <th>0</th>\n",
       "      <td>100001</td>\n",
       "      <td>Bullet01</td>\n",
       "      <td>versatil connector variou 90 degre connect hom...</td>\n",
       "      <td>90.0</td>\n",
       "      <td>versatil connector variou degre connect home r...</td>\n",
       "    </tr>\n",
       "    <tr>\n",
       "      <th>1</th>\n",
       "      <td>100001</td>\n",
       "      <td>Bullet02</td>\n",
       "      <td>stronger angl nail screw fasten alon</td>\n",
       "      <td></td>\n",
       "      <td>stronger angl nail screw fasten alon</td>\n",
       "    </tr>\n",
       "    <tr>\n",
       "      <th>2</th>\n",
       "      <td>100001</td>\n",
       "      <td>Bullet03</td>\n",
       "      <td>help ensur joint consist straight strong</td>\n",
       "      <td></td>\n",
       "      <td>help ensur joint consist straight strong</td>\n",
       "    </tr>\n",
       "    <tr>\n",
       "      <th>3</th>\n",
       "      <td>100001</td>\n",
       "      <td>Bullet04</td>\n",
       "      <td>dimensions: 3 in. x 3 in. x 1 1/2 in.</td>\n",
       "      <td>3.0 3.0 1.0</td>\n",
       "      <td>dimensions: in. x in. x 1/2 in.</td>\n",
       "    </tr>\n",
       "    <tr>\n",
       "      <th>4</th>\n",
       "      <td>100001</td>\n",
       "      <td>Bullet05</td>\n",
       "      <td>made 12 gaug steel</td>\n",
       "      <td>12.0</td>\n",
       "      <td>made gaug steel</td>\n",
       "    </tr>\n",
       "  </tbody>\n",
       "</table>\n",
       "</div>"
      ],
      "text/plain": [
       "   product_uid      name                                              value  \\\n",
       "0       100001  Bullet01  versatil connector variou 90 degre connect hom...   \n",
       "1       100001  Bullet02               stronger angl nail screw fasten alon   \n",
       "2       100001  Bullet03           help ensur joint consist straight strong   \n",
       "3       100001  Bullet04              dimensions: 3 in. x 3 in. x 1 1/2 in.   \n",
       "4       100001  Bullet05                                 made 12 gaug steel   \n",
       "\n",
       "     value_num                                          value_str  \n",
       "0         90.0  versatil connector variou degre connect home r...  \n",
       "1                            stronger angl nail screw fasten alon  \n",
       "2                        help ensur joint consist straight strong  \n",
       "3  3.0 3.0 1.0                    dimensions: in. x in. x 1/2 in.  \n",
       "4         12.0                                    made gaug steel  "
      ]
     },
     "execution_count": 132,
     "metadata": {},
     "output_type": "execute_result"
    }
   ],
   "source": [
    "df_attr.head()"
   ]
  },
  {
   "cell_type": "code",
   "execution_count": 130,
   "metadata": {
    "collapsed": false
   },
   "outputs": [
    {
     "data": {
      "text/html": [
       "<div>\n",
       "<table border=\"1\" class=\"dataframe\">\n",
       "  <thead>\n",
       "    <tr style=\"text-align: right;\">\n",
       "      <th></th>\n",
       "      <th>product_uid</th>\n",
       "      <th>product_description</th>\n",
       "    </tr>\n",
       "  </thead>\n",
       "  <tbody>\n",
       "    <tr>\n",
       "      <th>0</th>\n",
       "      <td>100001</td>\n",
       "      <td>angl make joint stronger also provid consist s...</td>\n",
       "    </tr>\n",
       "    <tr>\n",
       "      <th>1</th>\n",
       "      <td>100002</td>\n",
       "      <td>behr premium textur deckov innov solid color c...</td>\n",
       "    </tr>\n",
       "    <tr>\n",
       "      <th>2</th>\n",
       "      <td>100003</td>\n",
       "      <td>classic architectur meet contemporari design e...</td>\n",
       "    </tr>\n",
       "    <tr>\n",
       "      <th>3</th>\n",
       "      <td>100004</td>\n",
       "      <td>grape solar 265watt. polycrystallin pv solar p...</td>\n",
       "    </tr>\n",
       "    <tr>\n",
       "      <th>4</th>\n",
       "      <td>100005</td>\n",
       "      <td>updat bathroom delta vero singl handl shower f...</td>\n",
       "    </tr>\n",
       "  </tbody>\n",
       "</table>\n",
       "</div>"
      ],
      "text/plain": [
       "   product_uid                                product_description\n",
       "0       100001  angl make joint stronger also provid consist s...\n",
       "1       100002  behr premium textur deckov innov solid color c...\n",
       "2       100003  classic architectur meet contemporari design e...\n",
       "3       100004  grape solar 265watt. polycrystallin pv solar p...\n",
       "4       100005  updat bathroom delta vero singl handl shower f..."
      ]
     },
     "execution_count": 130,
     "metadata": {},
     "output_type": "execute_result"
    }
   ],
   "source": [
    "df_prod.head()"
   ]
  },
  {
   "cell_type": "code",
   "execution_count": 135,
   "metadata": {
    "collapsed": false
   },
   "outputs": [],
   "source": [
    "df_prod['product_description'] = df_prod['product_description'].apply(multiply_search)\n",
    "df_prod['product_description_num'] = df_prod['product_description'].apply(to_float)\n",
    "df_prod['product_description_str'] = df_prod['product_description'].apply(to_str)"
   ]
  },
  {
   "cell_type": "code",
   "execution_count": 123,
   "metadata": {
    "collapsed": false
   },
   "outputs": [
    {
     "data": {
      "text/plain": [
       "1000"
      ]
     },
     "execution_count": 123,
     "metadata": {},
     "output_type": "execute_result"
    }
   ],
   "source": [
    "eval_f(\"1/0\")"
   ]
  },
  {
   "cell_type": "code",
   "execution_count": 136,
   "metadata": {
    "collapsed": false
   },
   "outputs": [
    {
     "data": {
      "text/html": [
       "<div>\n",
       "<table border=\"1\" class=\"dataframe\">\n",
       "  <thead>\n",
       "    <tr style=\"text-align: right;\">\n",
       "      <th></th>\n",
       "      <th>product_uid</th>\n",
       "      <th>product_description</th>\n",
       "      <th>product_description_num</th>\n",
       "      <th>product_description_str</th>\n",
       "    </tr>\n",
       "  </thead>\n",
       "  <tbody>\n",
       "    <tr>\n",
       "      <th>0</th>\n",
       "      <td>100001</td>\n",
       "      <td>angl make joint stronger also provid consist s...</td>\n",
       "      <td>90.0 9.0 3.0 1.0 12.0 10.0 1.0 1.0</td>\n",
       "      <td>angl make joint stronger also provid consist s...</td>\n",
       "    </tr>\n",
       "    <tr>\n",
       "      <th>1</th>\n",
       "      <td>100002</td>\n",
       "      <td>behr premium textur deckov innov solid color c...</td>\n",
       "      <td>2.0</td>\n",
       "      <td>behr premium textur deckov innov solid color c...</td>\n",
       "    </tr>\n",
       "    <tr>\n",
       "      <th>2</th>\n",
       "      <td>100003</td>\n",
       "      <td>classic architectur meet contemporari design e...</td>\n",
       "      <td>124.1 2.0 45.1</td>\n",
       "      <td>classic architectur meet contemporari design e...</td>\n",
       "    </tr>\n",
       "    <tr>\n",
       "      <th>3</th>\n",
       "      <td>100004</td>\n",
       "      <td>grape solar 265watt. polycrystallin pv solar p...</td>\n",
       "      <td>4.0 4.0</td>\n",
       "      <td>grape solar 265watt. polycrystallin pv solar p...</td>\n",
       "    </tr>\n",
       "    <tr>\n",
       "      <th>4</th>\n",
       "      <td>100005</td>\n",
       "      <td>updat bathroom delta vero singl handl shower f...</td>\n",
       "      <td>3.0 10000.0</td>\n",
       "      <td>updat bathroom delta vero singl handl shower f...</td>\n",
       "    </tr>\n",
       "  </tbody>\n",
       "</table>\n",
       "</div>"
      ],
      "text/plain": [
       "   product_uid                                product_description  \\\n",
       "0       100001  angl make joint stronger also provid consist s...   \n",
       "1       100002  behr premium textur deckov innov solid color c...   \n",
       "2       100003  classic architectur meet contemporari design e...   \n",
       "3       100004  grape solar 265watt. polycrystallin pv solar p...   \n",
       "4       100005  updat bathroom delta vero singl handl shower f...   \n",
       "\n",
       "              product_description_num  \\\n",
       "0  90.0 9.0 3.0 1.0 12.0 10.0 1.0 1.0   \n",
       "1                                 2.0   \n",
       "2                      124.1 2.0 45.1   \n",
       "3                             4.0 4.0   \n",
       "4                         3.0 10000.0   \n",
       "\n",
       "                             product_description_str  \n",
       "0  angl make joint stronger also provid consist s...  \n",
       "1  behr premium textur deckov innov solid color c...  \n",
       "2  classic architectur meet contemporari design e...  \n",
       "3  grape solar 265watt. polycrystallin pv solar p...  \n",
       "4  updat bathroom delta vero singl handl shower f...  "
      ]
     },
     "execution_count": 136,
     "metadata": {},
     "output_type": "execute_result"
    }
   ],
   "source": [
    "df_prod.head()"
   ]
  },
  {
   "cell_type": "code",
   "execution_count": 138,
   "metadata": {
    "collapsed": false
   },
   "outputs": [
    {
     "data": {
      "text/html": [
       "<div>\n",
       "<table border=\"1\" class=\"dataframe\">\n",
       "  <thead>\n",
       "    <tr style=\"text-align: right;\">\n",
       "      <th></th>\n",
       "      <th>id</th>\n",
       "      <th>product_uid</th>\n",
       "      <th>product_title</th>\n",
       "      <th>search_term</th>\n",
       "      <th>prod_title_score</th>\n",
       "      <th>prod_brand_score</th>\n",
       "      <th>attr_bullet_score</th>\n",
       "      <th>attr_bullet_score_num</th>\n",
       "    </tr>\n",
       "  </thead>\n",
       "  <tbody>\n",
       "    <tr>\n",
       "      <th>0</th>\n",
       "      <td>1</td>\n",
       "      <td>100001</td>\n",
       "      <td>simpson strong tie 12 gaug angl</td>\n",
       "      <td>90deg. bracket</td>\n",
       "      <td>0.000000</td>\n",
       "      <td>0.000000</td>\n",
       "      <td>0.000000</td>\n",
       "      <td>0</td>\n",
       "    </tr>\n",
       "    <tr>\n",
       "      <th>1</th>\n",
       "      <td>4</td>\n",
       "      <td>100001</td>\n",
       "      <td>simpson strong tie 12 gaug angl</td>\n",
       "      <td>metal l bracket</td>\n",
       "      <td>0.000000</td>\n",
       "      <td>0.000000</td>\n",
       "      <td>0.000000</td>\n",
       "      <td>0</td>\n",
       "    </tr>\n",
       "    <tr>\n",
       "      <th>2</th>\n",
       "      <td>5</td>\n",
       "      <td>100001</td>\n",
       "      <td>simpson strong tie 12 gaug angl</td>\n",
       "      <td>simpson sky abl</td>\n",
       "      <td>0.333333</td>\n",
       "      <td>0.333333</td>\n",
       "      <td>0.000000</td>\n",
       "      <td>0</td>\n",
       "    </tr>\n",
       "    <tr>\n",
       "      <th>3</th>\n",
       "      <td>6</td>\n",
       "      <td>100001</td>\n",
       "      <td>simpson strong tie 12 gaug angl</td>\n",
       "      <td>simpson strong tie</td>\n",
       "      <td>1.000000</td>\n",
       "      <td>0.333333</td>\n",
       "      <td>0.333333</td>\n",
       "      <td>0</td>\n",
       "    </tr>\n",
       "    <tr>\n",
       "      <th>4</th>\n",
       "      <td>7</td>\n",
       "      <td>100001</td>\n",
       "      <td>simpson strong tie 12 gaug angl</td>\n",
       "      <td>simpson strong tie hcc 668</td>\n",
       "      <td>0.600000</td>\n",
       "      <td>0.200000</td>\n",
       "      <td>0.250000</td>\n",
       "      <td>0</td>\n",
       "    </tr>\n",
       "  </tbody>\n",
       "</table>\n",
       "</div>"
      ],
      "text/plain": [
       "   id  product_uid                    product_title  \\\n",
       "0   1       100001  simpson strong tie 12 gaug angl   \n",
       "1   4       100001  simpson strong tie 12 gaug angl   \n",
       "2   5       100001  simpson strong tie 12 gaug angl   \n",
       "3   6       100001  simpson strong tie 12 gaug angl   \n",
       "4   7       100001  simpson strong tie 12 gaug angl   \n",
       "\n",
       "                  search_term  prod_title_score  prod_brand_score  \\\n",
       "0              90deg. bracket          0.000000          0.000000   \n",
       "1             metal l bracket          0.000000          0.000000   \n",
       "2             simpson sky abl          0.333333          0.333333   \n",
       "3          simpson strong tie          1.000000          0.333333   \n",
       "4  simpson strong tie hcc 668          0.600000          0.200000   \n",
       "\n",
       "   attr_bullet_score  attr_bullet_score_num  \n",
       "0           0.000000                      0  \n",
       "1           0.000000                      0  \n",
       "2           0.000000                      0  \n",
       "3           0.333333                      0  \n",
       "4           0.250000                      0  "
      ]
     },
     "execution_count": 138,
     "metadata": {},
     "output_type": "execute_result"
    }
   ],
   "source": [
    "df_test.head()"
   ]
  },
  {
   "cell_type": "code",
   "execution_count": 141,
   "metadata": {
    "collapsed": false
   },
   "outputs": [],
   "source": [
    "df_test = df_test.drop(['prod_title_score','prod_brand_score','attr_bullet_score','attr_bullet_score_num'],1)"
   ]
  },
  {
   "cell_type": "code",
   "execution_count": 142,
   "metadata": {
    "collapsed": true
   },
   "outputs": [],
   "source": [
    "df_train = df_train.drop(['prod_title_score','prod_brand_score','attr_bullet_score','attr_bullet_score_num'],1)"
   ]
  },
  {
   "cell_type": "code",
   "execution_count": 149,
   "metadata": {
    "collapsed": false
   },
   "outputs": [
    {
     "data": {
      "text/html": [
       "<div>\n",
       "<table border=\"1\" class=\"dataframe\">\n",
       "  <thead>\n",
       "    <tr style=\"text-align: right;\">\n",
       "      <th></th>\n",
       "      <th>id</th>\n",
       "      <th>product_uid</th>\n",
       "      <th>product_title</th>\n",
       "      <th>search_term</th>\n",
       "      <th>search_term_num</th>\n",
       "      <th>search_term_str</th>\n",
       "    </tr>\n",
       "  </thead>\n",
       "  <tbody>\n",
       "    <tr>\n",
       "      <th>0</th>\n",
       "      <td>1</td>\n",
       "      <td>100001</td>\n",
       "      <td>simpson strong tie 12 gaug angl</td>\n",
       "      <td>90deg. bracket</td>\n",
       "      <td></td>\n",
       "      <td>90deg. bracket</td>\n",
       "    </tr>\n",
       "    <tr>\n",
       "      <th>1</th>\n",
       "      <td>4</td>\n",
       "      <td>100001</td>\n",
       "      <td>simpson strong tie 12 gaug angl</td>\n",
       "      <td>metal l bracket</td>\n",
       "      <td></td>\n",
       "      <td>metal l bracket</td>\n",
       "    </tr>\n",
       "    <tr>\n",
       "      <th>2</th>\n",
       "      <td>5</td>\n",
       "      <td>100001</td>\n",
       "      <td>simpson strong tie 12 gaug angl</td>\n",
       "      <td>simpson sky abl</td>\n",
       "      <td></td>\n",
       "      <td>simpson sky abl</td>\n",
       "    </tr>\n",
       "    <tr>\n",
       "      <th>3</th>\n",
       "      <td>6</td>\n",
       "      <td>100001</td>\n",
       "      <td>simpson strong tie 12 gaug angl</td>\n",
       "      <td>simpson strong tie</td>\n",
       "      <td></td>\n",
       "      <td>simpson strong tie</td>\n",
       "    </tr>\n",
       "    <tr>\n",
       "      <th>4</th>\n",
       "      <td>7</td>\n",
       "      <td>100001</td>\n",
       "      <td>simpson strong tie 12 gaug angl</td>\n",
       "      <td>simpson strong tie hcc 668</td>\n",
       "      <td>668.0</td>\n",
       "      <td>simpson strong tie hcc</td>\n",
       "    </tr>\n",
       "  </tbody>\n",
       "</table>\n",
       "</div>"
      ],
      "text/plain": [
       "   id  product_uid                    product_title  \\\n",
       "0   1       100001  simpson strong tie 12 gaug angl   \n",
       "1   4       100001  simpson strong tie 12 gaug angl   \n",
       "2   5       100001  simpson strong tie 12 gaug angl   \n",
       "3   6       100001  simpson strong tie 12 gaug angl   \n",
       "4   7       100001  simpson strong tie 12 gaug angl   \n",
       "\n",
       "                  search_term search_term_num         search_term_str  \n",
       "0              90deg. bracket                          90deg. bracket  \n",
       "1             metal l bracket                         metal l bracket  \n",
       "2             simpson sky abl                         simpson sky abl  \n",
       "3          simpson strong tie                      simpson strong tie  \n",
       "4  simpson strong tie hcc 668           668.0  simpson strong tie hcc  "
      ]
     },
     "execution_count": 149,
     "metadata": {},
     "output_type": "execute_result"
    }
   ],
   "source": [
    "df_test.head()"
   ]
  },
  {
   "cell_type": "code",
   "execution_count": 150,
   "metadata": {
    "collapsed": true
   },
   "outputs": [],
   "source": [
    "df_test['product_title'] = df_test['product_title'].apply(multiply_search)\n",
    "df_test['product_title_num'] = df_test['product_title'].apply(to_float)\n",
    "df_test['product_title_str'] = df_test['product_title'].apply(to_str)\n",
    "\n",
    "\n",
    "df_train['product_title'] = df_train['product_title'].apply(multiply_search)\n",
    "df_train['product_title_num'] = df_train['product_title'].apply(to_float)\n",
    "df_train['product_title_str'] = df_train['product_title'].apply(to_str)\n",
    "\n"
   ]
  },
  {
   "cell_type": "code",
   "execution_count": 155,
   "metadata": {
    "collapsed": false
   },
   "outputs": [
    {
     "data": {
      "text/html": [
       "<div>\n",
       "<table border=\"1\" class=\"dataframe\">\n",
       "  <thead>\n",
       "    <tr style=\"text-align: right;\">\n",
       "      <th></th>\n",
       "      <th>product_uid</th>\n",
       "      <th>name</th>\n",
       "      <th>value</th>\n",
       "      <th>value_num</th>\n",
       "      <th>value_str</th>\n",
       "    </tr>\n",
       "  </thead>\n",
       "  <tbody>\n",
       "    <tr>\n",
       "      <th>0</th>\n",
       "      <td>100001</td>\n",
       "      <td>Bullet01</td>\n",
       "      <td>versatil connector variou 90 degre connect hom...</td>\n",
       "      <td>90.0</td>\n",
       "      <td>versatil connector variou degre connect home r...</td>\n",
       "    </tr>\n",
       "    <tr>\n",
       "      <th>1</th>\n",
       "      <td>100001</td>\n",
       "      <td>Bullet02</td>\n",
       "      <td>stronger angl nail screw fasten alon</td>\n",
       "      <td></td>\n",
       "      <td>stronger angl nail screw fasten alon</td>\n",
       "    </tr>\n",
       "    <tr>\n",
       "      <th>2</th>\n",
       "      <td>100001</td>\n",
       "      <td>Bullet03</td>\n",
       "      <td>help ensur joint consist straight strong</td>\n",
       "      <td></td>\n",
       "      <td>help ensur joint consist straight strong</td>\n",
       "    </tr>\n",
       "    <tr>\n",
       "      <th>3</th>\n",
       "      <td>100001</td>\n",
       "      <td>Bullet04</td>\n",
       "      <td>dimensions: 3 in. x 3 in. x 1 1/2 in.</td>\n",
       "      <td>3.0 3.0 1.0</td>\n",
       "      <td>dimensions: in. x in. x 1/2 in.</td>\n",
       "    </tr>\n",
       "    <tr>\n",
       "      <th>4</th>\n",
       "      <td>100001</td>\n",
       "      <td>Bullet05</td>\n",
       "      <td>made 12 gaug steel</td>\n",
       "      <td>12.0</td>\n",
       "      <td>made gaug steel</td>\n",
       "    </tr>\n",
       "  </tbody>\n",
       "</table>\n",
       "</div>"
      ],
      "text/plain": [
       "   product_uid      name                                              value  \\\n",
       "0       100001  Bullet01  versatil connector variou 90 degre connect hom...   \n",
       "1       100001  Bullet02               stronger angl nail screw fasten alon   \n",
       "2       100001  Bullet03           help ensur joint consist straight strong   \n",
       "3       100001  Bullet04              dimensions: 3 in. x 3 in. x 1 1/2 in.   \n",
       "4       100001  Bullet05                                 made 12 gaug steel   \n",
       "\n",
       "     value_num                                          value_str  \n",
       "0         90.0  versatil connector variou degre connect home r...  \n",
       "1                            stronger angl nail screw fasten alon  \n",
       "2                        help ensur joint consist straight strong  \n",
       "3  3.0 3.0 1.0                    dimensions: in. x in. x 1/2 in.  \n",
       "4         12.0                                    made gaug steel  "
      ]
     },
     "execution_count": 155,
     "metadata": {},
     "output_type": "execute_result"
    }
   ],
   "source": [
    "df_attr.head()"
   ]
  },
  {
   "cell_type": "code",
   "execution_count": 157,
   "metadata": {
    "collapsed": false
   },
   "outputs": [],
   "source": [
    "df_train.to_excel('pre_processed_data\\df_train.xlsx')\n",
    "df_test.to_excel('pre_processed_data\\df_test.xlsx')\n",
    "df_prod.to_excel('pre_processed_data\\df_prod.xlsx')\n",
    "df_attr.to_excel('pre_processed_data\\df_attr.xlsx')\n",
    "df_brand.to_excel('pre_processed_data\\df_brand.xlsx')"
   ]
  },
  {
   "cell_type": "code",
   "execution_count": null,
   "metadata": {
    "collapsed": true
   },
   "outputs": [],
   "source": []
  }
 ],
 "metadata": {
  "kernelspec": {
   "display_name": "Python 3",
   "language": "python",
   "name": "python3"
  },
  "language_info": {
   "codemirror_mode": {
    "name": "ipython",
    "version": 3
   },
   "file_extension": ".py",
   "mimetype": "text/x-python",
   "name": "python",
   "nbconvert_exporter": "python",
   "pygments_lexer": "ipython3",
   "version": "3.4.4"
  }
 },
 "nbformat": 4,
 "nbformat_minor": 0
}
